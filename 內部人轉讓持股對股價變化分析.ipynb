{
 "cells": [
  {
   "cell_type": "code",
   "execution_count": 1,
   "id": "88ea23b2",
   "metadata": {},
   "outputs": [],
   "source": [
    "import tejapi\n",
    "import pandas as pd\n",
    "import matplotlib.pyplot as plt\n",
    "import plotly.graph_objects as go\n",
    "from datetime import datetime, timedelta\n",
    "from dateutil.relativedelta import relativedelta\n",
    "\n",
    "tejapi.ApiConfig.api_key  = \"Your Key\"\n",
    "tejapi.ApiConfig.api_base = \"https://api.tej.com.tw\"\n",
    "tejapi.ApiConfig.ignoretz = True"
   ]
  },
  {
   "cell_type": "code",
   "execution_count": 2,
   "id": "e559b763",
   "metadata": {},
   "outputs": [],
   "source": [
    "# 取得內部人申報轉讓資料，並篩選出鉅額交易的資料\n",
    "data_trans = tejapi.get('TWN/ATRANS',        # 上市(櫃)董監申報轉讓資料庫\n",
    "                        # 證券碼、申報日、股東身份、轉讓方式、申報轉讓股數\n",
    "                        opts = {'columns':['coid', 'mdate', 'clnm_c', 'tpnm_c', 'tns2']},\n",
    "                        paginate = True,\n",
    "                        chinese_column_name = True)\n",
    "data_trans = data_trans[data_trans['轉讓方式'].str.contains('鉅額')]  # 篩選鉅額交易資料"
   ]
  },
  {
   "cell_type": "code",
   "execution_count": 3,
   "id": "333fa9a8",
   "metadata": {},
   "outputs": [],
   "source": [
    "# 取得總發行股數函數，將證券碼、日期設為變數\n",
    "def data_total_stock(coid, date):\n",
    "# 由於此資料庫將日期設為次月15號更新，本次實作2024/01的資料尚未發布，所以若有2023/12/01之後的事件都以2023/12/01取得總發行股數\n",
    "    reference_date = datetime.strptime('2023-12-01', '%Y-%m-%d')\n",
    "    date_object = datetime.strptime(date, '%Y-%m-%d')   # 將日期變數轉為datetime格式\n",
    "# 判斷日期是否在2023/12/01之後，若在之後以2023/12/01取得總發行股數\n",
    "    if date_object > reference_date:\n",
    "        gte = reference_date\n",
    "        lte = reference_date\n",
    "# 若在2023/12/01之前，此資料是月頻率的資料，因此若日期不是1號，則取這個月到下個月之間的那個1號，反之則不用改變日期\n",
    "    else:\n",
    "        gte = date                    # 設置開始日期\n",
    "        if date_object.day != 1:\n",
    "            next_month_date = date_object + relativedelta(months=1)    # 加一個月\n",
    "        else:\n",
    "            next_month_date = date_object                  # 原日期即可\n",
    "        lte = next_month_date.strftime('%Y-%m-%d')         # 設置結束日期\n",
    "    data_total = tejapi.get('TWN/ABSTN1',                  # 上市(櫃)董監全體持股狀況資料庫   \n",
    "                            coid = coid,\n",
    "                            mdate = {'gte':gte, 'lte':lte},\n",
    "                            opts = {'columns':['coid','fld003']},    # 證券碼、總發行股數\n",
    "                            paginate = True,\n",
    "                            chinese_column_name = True)  \n",
    "    return data_total"
   ]
  },
  {
   "cell_type": "code",
   "execution_count": 4,
   "id": "23b92f32",
   "metadata": {},
   "outputs": [],
   "source": [
    "# 取得股價函數，將證券碼、起迄日期設為變數\n",
    "def data_stock_price(coid, start, end):\n",
    "    data_coid = tejapi.get('TWN/APRCD',            # 上市(櫃)未調整股價(日)資料庫\n",
    "                            coid = coid,\n",
    "                            mdate = {'gte':start, 'lte': end},\n",
    "                            paginate = True,\n",
    "                            chinese_column_name = True,\n",
    "                            opts = {'columns':['coid','mdate','close_d']},      #證券碼、日期、收盤價\n",
    "                            )\n",
    "    return data_coid"
   ]
  },
  {
   "cell_type": "code",
   "execution_count": 5,
   "id": "36f0cd35",
   "metadata": {},
   "outputs": [],
   "source": [
    "# 下面兩個欄位轉成list資料，以便後續帶入函數\n",
    "coid = list(data_trans['公司碼'])\n",
    "date = list(data_trans['申報日'])\n",
    "\n",
    "# 設置總發行股數的dataframe\n",
    "data_total = pd.DataFrame()\n",
    "\n",
    "for x, y in zip(coid, date):\n",
    "    data_stock = data_total_stock(x, str(y)[0:10]) # 將證券碼、日期轉成字串取年月日帶入函數\n",
    "    if data_stock.size == 0:         # 若沒有資料不處理\n",
    "        pass    \n",
    "    else:                            # 其餘帶入上方設置好的總發行股數的dataframe\n",
    "        data_total = pd.concat([data_total, data_stock], ignore_index=True)\\\n",
    "        \n",
    "data_trans = data_trans[data_trans['公司碼'] != '5261']   # 申報轉讓資料刪除上方沒有資料的證券碼(經查詢已下櫃)\n",
    "data_trans.reset_index(inplace=True)\n",
    "data_trans = data_trans.drop(columns='None')\n",
    "\n",
    "# 將總發行股數併入申報轉讓資料，並新增欄位申報股數(%)\n",
    "data_outstanding = [outstanding for outstanding in data_total['總股數']]\n",
    "data_trans['總股數'] = data_outstanding\n",
    "stock_pct = [(j/i)*100 for i, j in zip(data_trans['總股數'], data_trans['申報轉讓股數'])]\n",
    "data_trans['申報股數(%)'] = stock_pct"
   ]
  },
  {
   "cell_type": "code",
   "execution_count": 6,
   "id": "0e77bdcf",
   "metadata": {},
   "outputs": [
    {
     "data": {
      "text/html": [
       "<div>\n",
       "<style scoped>\n",
       "    .dataframe tbody tr th:only-of-type {\n",
       "        vertical-align: middle;\n",
       "    }\n",
       "\n",
       "    .dataframe tbody tr th {\n",
       "        vertical-align: top;\n",
       "    }\n",
       "\n",
       "    .dataframe thead th {\n",
       "        text-align: right;\n",
       "    }\n",
       "</style>\n",
       "<table border=\"1\" class=\"dataframe\">\n",
       "  <thead>\n",
       "    <tr style=\"text-align: right;\">\n",
       "      <th></th>\n",
       "      <th>公司碼</th>\n",
       "      <th>申報日</th>\n",
       "      <th>股東身份</th>\n",
       "      <th>轉讓方式</th>\n",
       "      <th>申報轉讓股數</th>\n",
       "      <th>總股數</th>\n",
       "      <th>申報股數(%)</th>\n",
       "    </tr>\n",
       "  </thead>\n",
       "  <tbody>\n",
       "    <tr>\n",
       "      <th>0</th>\n",
       "      <td>1101</td>\n",
       "      <td>2015-07-03</td>\n",
       "      <td>法人代表(董事長/總經理)</td>\n",
       "      <td>鉅額逐筆交易</td>\n",
       "      <td>10000</td>\n",
       "      <td>3692176</td>\n",
       "      <td>0.270843</td>\n",
       "    </tr>\n",
       "    <tr>\n",
       "      <th>3</th>\n",
       "      <td>1102</td>\n",
       "      <td>2009-04-03</td>\n",
       "      <td>董事</td>\n",
       "      <td>鉅額逐筆交易</td>\n",
       "      <td>50000</td>\n",
       "      <td>2898772</td>\n",
       "      <td>1.724868</td>\n",
       "    </tr>\n",
       "    <tr>\n",
       "      <th>4</th>\n",
       "      <td>1104</td>\n",
       "      <td>2015-05-29</td>\n",
       "      <td>董事長/總經理</td>\n",
       "      <td>鉅額逐筆交易</td>\n",
       "      <td>10000</td>\n",
       "      <td>615970</td>\n",
       "      <td>1.623456</td>\n",
       "    </tr>\n",
       "    <tr>\n",
       "      <th>7</th>\n",
       "      <td>1108</td>\n",
       "      <td>2016-03-04</td>\n",
       "      <td>法人代表(董事長/總經理)</td>\n",
       "      <td>鉅額逐筆交易</td>\n",
       "      <td>4135</td>\n",
       "      <td>404738</td>\n",
       "      <td>1.021649</td>\n",
       "    </tr>\n",
       "    <tr>\n",
       "      <th>8</th>\n",
       "      <td>1110</td>\n",
       "      <td>2017-02-03</td>\n",
       "      <td>大股東</td>\n",
       "      <td>鉅額逐筆交易</td>\n",
       "      <td>6600</td>\n",
       "      <td>572001</td>\n",
       "      <td>1.153844</td>\n",
       "    </tr>\n",
       "    <tr>\n",
       "      <th>...</th>\n",
       "      <td>...</td>\n",
       "      <td>...</td>\n",
       "      <td>...</td>\n",
       "      <td>...</td>\n",
       "      <td>...</td>\n",
       "      <td>...</td>\n",
       "      <td>...</td>\n",
       "    </tr>\n",
       "    <tr>\n",
       "      <th>1425</th>\n",
       "      <td>9937</td>\n",
       "      <td>2020-07-03</td>\n",
       "      <td>董事</td>\n",
       "      <td>鉅額逐筆交易</td>\n",
       "      <td>4778</td>\n",
       "      <td>309043</td>\n",
       "      <td>1.546063</td>\n",
       "    </tr>\n",
       "    <tr>\n",
       "      <th>1426</th>\n",
       "      <td>9941</td>\n",
       "      <td>2023-03-16</td>\n",
       "      <td>董事長</td>\n",
       "      <td>鉅額逐筆交易</td>\n",
       "      <td>24000</td>\n",
       "      <td>498386</td>\n",
       "      <td>4.815545</td>\n",
       "    </tr>\n",
       "    <tr>\n",
       "      <th>1428</th>\n",
       "      <td>9943</td>\n",
       "      <td>2011-03-21</td>\n",
       "      <td>董事長</td>\n",
       "      <td>鉅額逐筆交易</td>\n",
       "      <td>4000</td>\n",
       "      <td>147318</td>\n",
       "      <td>2.715215</td>\n",
       "    </tr>\n",
       "    <tr>\n",
       "      <th>1432</th>\n",
       "      <td>9951</td>\n",
       "      <td>2017-07-28</td>\n",
       "      <td>董事</td>\n",
       "      <td>鉅額逐筆交易</td>\n",
       "      <td>5000</td>\n",
       "      <td>74900</td>\n",
       "      <td>6.675567</td>\n",
       "    </tr>\n",
       "    <tr>\n",
       "      <th>1433</th>\n",
       "      <td>9962</td>\n",
       "      <td>2017-02-14</td>\n",
       "      <td>董事代表人配偶</td>\n",
       "      <td>鉅額逐筆交易</td>\n",
       "      <td>861</td>\n",
       "      <td>90220</td>\n",
       "      <td>0.954334</td>\n",
       "    </tr>\n",
       "  </tbody>\n",
       "</table>\n",
       "<p>488 rows × 7 columns</p>\n",
       "</div>"
      ],
      "text/plain": [
       "       公司碼        申報日           股東身份    轉讓方式  申報轉讓股數      總股數   申報股數(%)\n",
       "0     1101 2015-07-03  法人代表(董事長/總經理)  鉅額逐筆交易   10000  3692176  0.270843\n",
       "3     1102 2009-04-03             董事  鉅額逐筆交易   50000  2898772  1.724868\n",
       "4     1104 2015-05-29        董事長/總經理  鉅額逐筆交易   10000   615970  1.623456\n",
       "7     1108 2016-03-04  法人代表(董事長/總經理)  鉅額逐筆交易    4135   404738  1.021649\n",
       "8     1110 2017-02-03            大股東  鉅額逐筆交易    6600   572001  1.153844\n",
       "...    ...        ...            ...     ...     ...      ...       ...\n",
       "1425  9937 2020-07-03             董事  鉅額逐筆交易    4778   309043  1.546063\n",
       "1426  9941 2023-03-16            董事長  鉅額逐筆交易   24000   498386  4.815545\n",
       "1428  9943 2011-03-21            董事長  鉅額逐筆交易    4000   147318  2.715215\n",
       "1432  9951 2017-07-28             董事  鉅額逐筆交易    5000    74900  6.675567\n",
       "1433  9962 2017-02-14        董事代表人配偶  鉅額逐筆交易     861    90220  0.954334\n",
       "\n",
       "[488 rows x 7 columns]"
      ]
     },
     "execution_count": 6,
     "metadata": {},
     "output_type": "execute_result"
    }
   ],
   "source": [
    "# 取出每支股票申報股數(%)最高的\n",
    "max_percentage_coid = data_trans.groupby('公司碼')['申報股數(%)'].idxmax()\n",
    "final_data = data_trans.loc[max_percentage_coid]\n",
    "all_data = final_data\n",
    "final_data"
   ]
  },
  {
   "cell_type": "markdown",
   "id": "0f13fb6c",
   "metadata": {},
   "source": [
    "### 綜合以上與相關新聞，我歸納出以下四種結果\n",
    "\n",
    "---\n",
    "1. 股價隨之暴跌，以下兩個作舉例\n",
    "* 文曄(3036) <span style='color:orange'>(2023/11/10)</span><br>\n",
    "* 康友-KY(6452) <span style='color:orange'>(2018/10/16)</span> \n",
    "2. 股價波動不受內部人鉅額交易影響，以下兩個作舉例，因有發布新聞說明為何股東鉅額交易\n",
    "* 奇鋐(3017) <span style='color:orange'>(2021/03/23)</span>\n",
    "    * 針對大股東日商古河電工釋股，奇鋐表示因2020面臨疫情衝擊，日本企業營運普遍欠佳，大股東以處分轉投資改善資產項目。\n",
    "* 日月光(2311) <span style='color:orange'>(2018/02/14)</span>\n",
    "    * 日月光副董張洪本申讓持有的全數日月光股票，日月光表示，這是張洪本個人信託理財規劃考量，並無實質出售或釋出日月光股份。\n",
    "3. 股價微微上漲，以下作舉例，發布新聞說明集團內部業務整併，\n",
    "* 潤弘(2597) <span style='color:orange'>(2019/10/23)</span>\n",
    "    * 潤泰集團為簡化集團組織架構以鉅額交易方式認購子公司出售之潤弘股票，潤泰全對潤弘精密持股將提升至1.26萬張，持股比例為9.35%。\n",
    "4. 股價微微下跌後回穩，以下作舉例，發布新聞後有回穩趨勢\n",
    "* 美食-KY(2723) <span style='color:orange'>(2023/03/24)</span>\n",
    "    * 美食-KY發布說明，表示此「內部人持股轉讓」轉讓理由是「引進國際長期投資人」，且申報股數已於昨日全數完成轉讓。\n",
    "<br>\n",
    "---\n",
    "參考連結 → [奇鋐][1]、[日月光][3]、[潤弘][4]、[美食-KY][5]\n",
    "\n",
    "[1]: https://www.sinotrade.com.tw/richclub/news/605a1e94ca28ac7bb2c30bbf \"奇鋐\"\n",
    "[3]: https://ieknet.iek.org.tw/ieknews/news_open.aspx?actiontype=ieknews&indu_idno=1&nsl_id=f1ab5bcbb5ab42b29a10223e55e8c0a6    \"日月光\"\n",
    "[4]: https://tw.stock.yahoo.com/news/%E5%80%8B%E8%82%A1-%E6%BD%A4%E6%B3%B0%E9%9B%86%E5%9C%98%E7%B0%A1%E5%8C%96%E7%B5%84%E7%B9%94-%E6%BD%A4%E6%B3%B0%E6%96%B0-9945-%E6%BD%A4%E6%B3%B0%E5%85%A8-023154334.html    \"潤弘\"\n",
    "[5]: https://money.udn.com/money/story/10871/7060531?from=edn_referralnews_story_ch2187    \"美食-KY\""
   ]
  },
  {
   "cell_type": "code",
   "execution_count": 7,
   "id": "2f84b850",
   "metadata": {},
   "outputs": [
    {
     "data": {
      "text/html": [
       "<div>\n",
       "<style scoped>\n",
       "    .dataframe tbody tr th:only-of-type {\n",
       "        vertical-align: middle;\n",
       "    }\n",
       "\n",
       "    .dataframe tbody tr th {\n",
       "        vertical-align: top;\n",
       "    }\n",
       "\n",
       "    .dataframe thead th {\n",
       "        text-align: right;\n",
       "    }\n",
       "</style>\n",
       "<table border=\"1\" class=\"dataframe\">\n",
       "  <thead>\n",
       "    <tr style=\"text-align: right;\">\n",
       "      <th></th>\n",
       "      <th>公司碼</th>\n",
       "      <th>申報日</th>\n",
       "      <th>股東身份</th>\n",
       "      <th>轉讓方式</th>\n",
       "      <th>申報轉讓股數</th>\n",
       "      <th>總股數</th>\n",
       "      <th>申報股數(%)</th>\n",
       "      <th>start_date</th>\n",
       "      <th>end_date</th>\n",
       "    </tr>\n",
       "  </thead>\n",
       "  <tbody>\n",
       "    <tr>\n",
       "      <th>0</th>\n",
       "      <td>2311</td>\n",
       "      <td>2018-02-14</td>\n",
       "      <td>董事/他人名義</td>\n",
       "      <td>鉅額逐筆交易</td>\n",
       "      <td>118222</td>\n",
       "      <td>8750192</td>\n",
       "      <td>1.351079</td>\n",
       "      <td>2018-01-14</td>\n",
       "      <td>2018-03-14</td>\n",
       "    </tr>\n",
       "    <tr>\n",
       "      <th>1</th>\n",
       "      <td>2597</td>\n",
       "      <td>2019-10-23</td>\n",
       "      <td>大股東</td>\n",
       "      <td>鉅額逐筆交易</td>\n",
       "      <td>51832</td>\n",
       "      <td>135000</td>\n",
       "      <td>38.394074</td>\n",
       "      <td>2019-09-23</td>\n",
       "      <td>2019-11-23</td>\n",
       "    </tr>\n",
       "    <tr>\n",
       "      <th>2</th>\n",
       "      <td>2723</td>\n",
       "      <td>2023-03-24</td>\n",
       "      <td>董事配偶</td>\n",
       "      <td>鉅額逐筆交易</td>\n",
       "      <td>3463</td>\n",
       "      <td>180000</td>\n",
       "      <td>1.923889</td>\n",
       "      <td>2023-02-24</td>\n",
       "      <td>2023-04-24</td>\n",
       "    </tr>\n",
       "    <tr>\n",
       "      <th>3</th>\n",
       "      <td>3017</td>\n",
       "      <td>2021-03-23</td>\n",
       "      <td>董事</td>\n",
       "      <td>鉅額逐筆交易</td>\n",
       "      <td>9300</td>\n",
       "      <td>353310</td>\n",
       "      <td>2.632249</td>\n",
       "      <td>2021-02-23</td>\n",
       "      <td>2021-04-23</td>\n",
       "    </tr>\n",
       "    <tr>\n",
       "      <th>4</th>\n",
       "      <td>3036</td>\n",
       "      <td>2023-11-10</td>\n",
       "      <td>大股東</td>\n",
       "      <td>鉅額逐筆交易</td>\n",
       "      <td>40000</td>\n",
       "      <td>887956</td>\n",
       "      <td>4.504728</td>\n",
       "      <td>2023-10-10</td>\n",
       "      <td>2023-12-10</td>\n",
       "    </tr>\n",
       "    <tr>\n",
       "      <th>5</th>\n",
       "      <td>6452</td>\n",
       "      <td>2018-10-16</td>\n",
       "      <td>大股東</td>\n",
       "      <td>鉅額逐筆交易</td>\n",
       "      <td>1300</td>\n",
       "      <td>78000</td>\n",
       "      <td>1.666667</td>\n",
       "      <td>2018-09-16</td>\n",
       "      <td>2018-11-16</td>\n",
       "    </tr>\n",
       "  </tbody>\n",
       "</table>\n",
       "</div>"
      ],
      "text/plain": [
       "    公司碼        申報日     股東身份    轉讓方式  申報轉讓股數      總股數    申報股數(%) start_date  \\\n",
       "0  2311 2018-02-14  董事/他人名義  鉅額逐筆交易  118222  8750192   1.351079 2018-01-14   \n",
       "1  2597 2019-10-23      大股東  鉅額逐筆交易   51832   135000  38.394074 2019-09-23   \n",
       "2  2723 2023-03-24     董事配偶  鉅額逐筆交易    3463   180000   1.923889 2023-02-24   \n",
       "3  3017 2021-03-23       董事  鉅額逐筆交易    9300   353310   2.632249 2021-02-23   \n",
       "4  3036 2023-11-10      大股東  鉅額逐筆交易   40000   887956   4.504728 2023-10-10   \n",
       "5  6452 2018-10-16      大股東  鉅額逐筆交易    1300    78000   1.666667 2018-09-16   \n",
       "\n",
       "    end_date  \n",
       "0 2018-03-14  \n",
       "1 2019-11-23  \n",
       "2 2023-04-24  \n",
       "3 2021-04-23  \n",
       "4 2023-12-10  \n",
       "5 2018-11-16  "
      ]
     },
     "execution_count": 7,
     "metadata": {},
     "output_type": "execute_result"
    }
   ],
   "source": [
    "coid_list = ['3036' , '6452' , '2311' , '3017' , '2597' , '2723']  # 取上述六支股票代碼\n",
    "\n",
    "# 取申報日前後一個月以利後續觀察股價波動\n",
    "final_data['start_date'] = final_data['申報日'] - pd.DateOffset(months=1)\n",
    "final_data['end_date'] = final_data['申報日'] + pd.DateOffset(months=1)\n",
    "\n",
    "final_data = final_data[final_data['公司碼'].isin(coid_list)]       # 原資料取出上述六支股票資料\n",
    "final_data.reset_index(inplace=True)\n",
    "final_data = final_data.drop(columns='index')\n",
    "final_data"
   ]
  },
  {
   "cell_type": "code",
   "execution_count": 8,
   "id": "f25cf6d0",
   "metadata": {},
   "outputs": [
    {
     "data": {
      "image/png": "[encoded data removed]",
      "text/plain": [
       "<Figure size 720x1296 with 6 Axes>"
      ]
     },
     "metadata": {
      "needs_background": "light"
     },
     "output_type": "display_data"
    }
   ],
   "source": [
    "# 建立一個股價的dataframe，並且利用迴圈將final_data的資料帶入取得股票函數\n",
    "result_df = pd.DataFrame(columns=['證券代碼', '年月日', '收盤價(元)'])\n",
    "for count in range(len(final_data)):\n",
    "    coid = final_data.iloc[count]['公司碼']\n",
    "    data_coid = data_stock_price(coid, \n",
    "                                final_data.iloc[count]['start_date'], \n",
    "                                final_data.iloc[count]['end_date'])\n",
    "    result_df = pd.concat([result_df, data_coid], ignore_index=True)\n",
    "\n",
    "# 利用unique()取出單一證券代碼，避免重複\n",
    "stock_codes_add = result_df['證券代碼'].unique()\n",
    "\n",
    "# 利用subplots一個證券代碼畫一個圖，每個圖以申報日的前後一個月作為時間區間\n",
    "fig, axs = plt.subplots(len(stock_codes_add), 1, figsize=(10, 3 * len(stock_codes_add)), sharex=False)\n",
    "\n",
    "# 橫軸為日期，縱軸為收盤價(元)\n",
    "for i, stock_code in enumerate(stock_codes_add):\n",
    "    stock_data = result_df[result_df['證券代碼'] == stock_code]\n",
    "    axs[i].plot(stock_data['年月日'].to_numpy(), stock_data['收盤價(元)'].to_numpy(), label=f\"Stock {stock_code}\")\n",
    "    axs[i].legend()\n",
    "    axs[i].set_xlabel('Date')\n",
    "    axs[i].set_ylabel('Stock Price')\n",
    "    # 用紅虛線標出申報日，以利觀察申報前後之股票波動\n",
    "    for date, code_add in zip(final_data['申報日'], final_data['公司碼']):\n",
    "        if code_add == stock_code:\n",
    "            axs[i].axvline(x=date, color='r', linestyle='--', alpha=0.5, linewidth=2)\n",
    "            axs[i].set_title(f\"Stock {stock_code}\")\n",
    "\n",
    "plt.legend()\n",
    "plt.tight_layout()\n",
    "plt.show()"
   ]
  },
  {
   "cell_type": "code",
   "execution_count": 9,
   "id": "35fd0490",
   "metadata": {},
   "outputs": [],
   "source": [
    "all_data = all_data.reset_index()\n",
    "all_data.drop(columns='index' , inplace=True)"
   ]
  },
  {
   "cell_type": "code",
   "execution_count": 12,
   "id": "d474f6bd",
   "metadata": {},
   "outputs": [],
   "source": [
    "# 找出申報日的下一個工作日，以利進行申報轉讓前後之對比\n",
    "next_workdays = []\n",
    "for c in range (len(all_data)):\n",
    "    next_work_day = all_data['申報日'][c] + timedelta(days=1)\n",
    "    next_working = str(next_work_day)[0:10]\n",
    "    ROC_data = data_stock_price(all_data['公司碼'][c], str(all_data['申報日'][c])[0:10], next_working)\n",
    "    while True:\n",
    "        if len(ROC_data) < 2: # 如果資料少於兩筆代表目前只抓到申報日這天的股價資料，所以日期再繼續往後抓\n",
    "            next_work_day += timedelta(days=1)\n",
    "            next_working = str(next_work_day)[0:10]\n",
    "            ROC_data = data_stock_price(all_data['公司碼'][c], str(all_data['申報日'][c])[0:10], next_working)\n",
    "        else:\n",
    "            break\n",
    "    next_workdays.append(next_working)\n",
    "\n",
    "all_data['下一個工作日'] = next_workdays"
   ]
  },
  {
   "cell_type": "code",
   "execution_count": 16,
   "id": "719cc51a",
   "metadata": {},
   "outputs": [],
   "source": [
    "# 取得日報酬率函數，將證券碼、申報日與下一個工作日設為變數\n",
    "def data_rate_of_return(coid, start, end):\n",
    "    data_return = tejapi.get('TWN/APRCD2',                  # 上市(櫃)股價報酬(日)-報酬率資料庫   \n",
    "                            coid = coid,\n",
    "                            mdate = {'gte':start, 'lte':end},\n",
    "                            opts = {'columns':['coid','mdate','zclose','roia']},    # 證券碼、日期、收盤價、日報酬率%\n",
    "                            paginate = True,\n",
    "                            chinese_column_name = True)\n",
    "    return data_return"
   ]
  },
  {
   "cell_type": "code",
   "execution_count": 17,
   "id": "b58fec0e",
   "metadata": {},
   "outputs": [
    {
     "data": {
      "text/html": [
       "<div>\n",
       "<style scoped>\n",
       "    .dataframe tbody tr th:only-of-type {\n",
       "        vertical-align: middle;\n",
       "    }\n",
       "\n",
       "    .dataframe tbody tr th {\n",
       "        vertical-align: top;\n",
       "    }\n",
       "\n",
       "    .dataframe thead th {\n",
       "        text-align: right;\n",
       "    }\n",
       "</style>\n",
       "<table border=\"1\" class=\"dataframe\">\n",
       "  <thead>\n",
       "    <tr style=\"text-align: right;\">\n",
       "      <th></th>\n",
       "      <th>證券代碼</th>\n",
       "      <th>年月日</th>\n",
       "      <th>未調整收盤價(元)</th>\n",
       "      <th>日報酬率 %</th>\n",
       "    </tr>\n",
       "  </thead>\n",
       "  <tbody>\n",
       "    <tr>\n",
       "      <th>0</th>\n",
       "      <td>1101</td>\n",
       "      <td>2015-07-03</td>\n",
       "      <td>40.10</td>\n",
       "      <td>0.2500</td>\n",
       "    </tr>\n",
       "    <tr>\n",
       "      <th>1</th>\n",
       "      <td>1101</td>\n",
       "      <td>2015-07-06</td>\n",
       "      <td>39.55</td>\n",
       "      <td>-1.3716</td>\n",
       "    </tr>\n",
       "    <tr>\n",
       "      <th>2</th>\n",
       "      <td>1102</td>\n",
       "      <td>2009-04-03</td>\n",
       "      <td>34.00</td>\n",
       "      <td>4.6154</td>\n",
       "    </tr>\n",
       "    <tr>\n",
       "      <th>3</th>\n",
       "      <td>1102</td>\n",
       "      <td>2009-04-06</td>\n",
       "      <td>34.00</td>\n",
       "      <td>0.0000</td>\n",
       "    </tr>\n",
       "    <tr>\n",
       "      <th>4</th>\n",
       "      <td>1104</td>\n",
       "      <td>2015-05-29</td>\n",
       "      <td>28.95</td>\n",
       "      <td>-0.3442</td>\n",
       "    </tr>\n",
       "    <tr>\n",
       "      <th>...</th>\n",
       "      <td>...</td>\n",
       "      <td>...</td>\n",
       "      <td>...</td>\n",
       "      <td>...</td>\n",
       "    </tr>\n",
       "    <tr>\n",
       "      <th>971</th>\n",
       "      <td>9943</td>\n",
       "      <td>2011-03-22</td>\n",
       "      <td>28.95</td>\n",
       "      <td>0.3466</td>\n",
       "    </tr>\n",
       "    <tr>\n",
       "      <th>972</th>\n",
       "      <td>9951</td>\n",
       "      <td>2017-07-28</td>\n",
       "      <td>195.00</td>\n",
       "      <td>0.0000</td>\n",
       "    </tr>\n",
       "    <tr>\n",
       "      <th>973</th>\n",
       "      <td>9951</td>\n",
       "      <td>2017-07-31</td>\n",
       "      <td>197.50</td>\n",
       "      <td>1.2821</td>\n",
       "    </tr>\n",
       "    <tr>\n",
       "      <th>974</th>\n",
       "      <td>9962</td>\n",
       "      <td>2017-02-14</td>\n",
       "      <td>10.30</td>\n",
       "      <td>0.4878</td>\n",
       "    </tr>\n",
       "    <tr>\n",
       "      <th>975</th>\n",
       "      <td>9962</td>\n",
       "      <td>2017-02-15</td>\n",
       "      <td>10.60</td>\n",
       "      <td>2.9126</td>\n",
       "    </tr>\n",
       "  </tbody>\n",
       "</table>\n",
       "<p>976 rows × 4 columns</p>\n",
       "</div>"
      ],
      "text/plain": [
       "     證券代碼        年月日  未調整收盤價(元)  日報酬率 %\n",
       "0    1101 2015-07-03      40.10  0.2500\n",
       "1    1101 2015-07-06      39.55 -1.3716\n",
       "2    1102 2009-04-03      34.00  4.6154\n",
       "3    1102 2009-04-06      34.00  0.0000\n",
       "4    1104 2015-05-29      28.95 -0.3442\n",
       "..    ...        ...        ...     ...\n",
       "971  9943 2011-03-22      28.95  0.3466\n",
       "972  9951 2017-07-28     195.00  0.0000\n",
       "973  9951 2017-07-31     197.50  1.2821\n",
       "974  9962 2017-02-14      10.30  0.4878\n",
       "975  9962 2017-02-15      10.60  2.9126\n",
       "\n",
       "[976 rows x 4 columns]"
      ]
     },
     "execution_count": 17,
     "metadata": {},
     "output_type": "execute_result"
    }
   ],
   "source": [
    "# 將申報日、下一個工作日與證券代碼代入日報酬率函數\n",
    "ROC_df = pd.DataFrame(columns=['證券代碼', '年月日', '未調整收盤價(元)', '日報酬率 %'])\n",
    "for count in range (len(all_data)):\n",
    "    ROC_data = data_rate_of_return(all_data['公司碼'][count], \n",
    "                                    str(all_data['申報日'][count])[0:10], \n",
    "                                    str(all_data['下一個工作日'][count])[0:10])\n",
    "    ROC_df = pd.concat([ROC_df, ROC_data], ignore_index=True)\n",
    "\n",
    "ROC_df"
   ]
  },
  {
   "cell_type": "code",
   "execution_count": 19,
   "id": "cac37212",
   "metadata": {},
   "outputs": [
    {
     "data": {
      "application/vnd.plotly.v1+json": {
       "config": {
        "plotlyServerURL": "https://plot.ly"
       },
       "data": [
        {
         "hoverinfo": "label+percent+value",
         "labels": [
          "Zero",
          "Positive",
          "Negative"
         ],
         "marker": {
          "colors": [
           "gold",
           "mediumturquoise",
           "darkorange"
          ],
          "line": {
           "color": "#000000",
           "width": 1.5
          }
         },
         "textfont": {
          "size": 15
         },
         "textinfo": "percent+value+label",
         "type": "pie",
         "values": [
          39,
          209,
          240
         ]
        }
       ],
       "layout": {
        "template": {
         "data": {
          "bar": [
           {
            "error_x": {
             "color": "#2a3f5f"
            },
            "error_y": {
             "color": "#2a3f5f"
            },
            "marker": {
             "line": {
              "color": "#E5ECF6",
              "width": 0.5
             },
             "pattern": {
              "fillmode": "overlay",
              "size": 10,
              "solidity": 0.2
             }
            },
            "type": "bar"
           }
          ],
          "barpolar": [
           {
            "marker": {
             "line": {
              "color": "#E5ECF6",
              "width": 0.5
             },
             "pattern": {
              "fillmode": "overlay",
              "size": 10,
              "solidity": 0.2
             }
            },
            "type": "barpolar"
           }
          ],
          "carpet": [
           {
            "aaxis": {
             "endlinecolor": "#2a3f5f",
             "gridcolor": "white",
             "linecolor": "white",
             "minorgridcolor": "white",
             "startlinecolor": "#2a3f5f"
            },
            "baxis": {
             "endlinecolor": "#2a3f5f",
             "gridcolor": "white",
             "linecolor": "white",
             "minorgridcolor": "white",
             "startlinecolor": "#2a3f5f"
            },
            "type": "carpet"
           }
          ],
          "choropleth": [
           {
            "colorbar": {
             "outlinewidth": 0,
             "ticks": ""
            },
            "type": "choropleth"
           }
          ],
          "contour": [
           {
            "colorbar": {
             "outlinewidth": 0,
             "ticks": ""
            },
            "colorscale": [
             [
              0,
              "#0d0887"
             ],
             [
              0.1111111111111111,
              "#46039f"
             ],
             [
              0.2222222222222222,
              "#7201a8"
             ],
             [
              0.3333333333333333,
              "#9c179e"
             ],
             [
              0.4444444444444444,
              "#bd3786"
             ],
             [
              0.5555555555555556,
              "#d8576b"
             ],
             [
              0.6666666666666666,
              "#ed7953"
             ],
             [
              0.7777777777777778,
              "#fb9f3a"
             ],
             [
              0.8888888888888888,
              "#fdca26"
             ],
             [
              1,
              "#f0f921"
             ]
            ],
            "type": "contour"
           }
          ],
          "contourcarpet": [
           {
            "colorbar": {
             "outlinewidth": 0,
             "ticks": ""
            },
            "type": "contourcarpet"
           }
          ],
          "heatmap": [
           {
            "colorbar": {
             "outlinewidth": 0,
             "ticks": ""
            },
            "colorscale": [
             [
              0,
              "#0d0887"
             ],
             [
              0.1111111111111111,
              "#46039f"
             ],
             [
              0.2222222222222222,
              "#7201a8"
             ],
             [
              0.3333333333333333,
              "#9c179e"
             ],
             [
              0.4444444444444444,
              "#bd3786"
             ],
             [
              0.5555555555555556,
              "#d8576b"
             ],
             [
              0.6666666666666666,
              "#ed7953"
             ],
             [
              0.7777777777777778,
              "#fb9f3a"
             ],
             [
              0.8888888888888888,
              "#fdca26"
             ],
             [
              1,
              "#f0f921"
             ]
            ],
            "type": "heatmap"
           }
          ],
          "heatmapgl": [
           {
            "colorbar": {
             "outlinewidth": 0,
             "ticks": ""
            },
            "colorscale": [
             [
              0,
              "#0d0887"
             ],
             [
              0.1111111111111111,
              "#46039f"
             ],
             [
              0.2222222222222222,
              "#7201a8"
             ],
             [
              0.3333333333333333,
              "#9c179e"
             ],
             [
              0.4444444444444444,
              "#bd3786"
             ],
             [
              0.5555555555555556,
              "#d8576b"
             ],
             [
              0.6666666666666666,
              "#ed7953"
             ],
             [
              0.7777777777777778,
              "#fb9f3a"
             ],
             [
              0.8888888888888888,
              "#fdca26"
             ],
             [
              1,
              "#f0f921"
             ]
            ],
            "type": "heatmapgl"
           }
          ],
          "histogram": [
           {
            "marker": {
             "pattern": {
              "fillmode": "overlay",
              "size": 10,
              "solidity": 0.2
             }
            },
            "type": "histogram"
           }
          ],
          "histogram2d": [
           {
            "colorbar": {
             "outlinewidth": 0,
             "ticks": ""
            },
            "colorscale": [
             [
              0,
              "#0d0887"
             ],
             [
              0.1111111111111111,
              "#46039f"
             ],
             [
              0.2222222222222222,
              "#7201a8"
             ],
             [
              0.3333333333333333,
              "#9c179e"
             ],
             [
              0.4444444444444444,
              "#bd3786"
             ],
             [
              0.5555555555555556,
              "#d8576b"
             ],
             [
              0.6666666666666666,
              "#ed7953"
             ],
             [
              0.7777777777777778,
              "#fb9f3a"
             ],
             [
              0.8888888888888888,
              "#fdca26"
             ],
             [
              1,
              "#f0f921"
             ]
            ],
            "type": "histogram2d"
           }
          ],
          "histogram2dcontour": [
           {
            "colorbar": {
             "outlinewidth": 0,
             "ticks": ""
            },
            "colorscale": [
             [
              0,
              "#0d0887"
             ],
             [
              0.1111111111111111,
              "#46039f"
             ],
             [
              0.2222222222222222,
              "#7201a8"
             ],
             [
              0.3333333333333333,
              "#9c179e"
             ],
             [
              0.4444444444444444,
              "#bd3786"
             ],
             [
              0.5555555555555556,
              "#d8576b"
             ],
             [
              0.6666666666666666,
              "#ed7953"
             ],
             [
              0.7777777777777778,
              "#fb9f3a"
             ],
             [
              0.8888888888888888,
              "#fdca26"
             ],
             [
              1,
              "#f0f921"
             ]
            ],
            "type": "histogram2dcontour"
           }
          ],
          "mesh3d": [
           {
            "colorbar": {
             "outlinewidth": 0,
             "ticks": ""
            },
            "type": "mesh3d"
           }
          ],
          "parcoords": [
           {
            "line": {
             "colorbar": {
              "outlinewidth": 0,
              "ticks": ""
             }
            },
            "type": "parcoords"
           }
          ],
          "pie": [
           {
            "automargin": true,
            "type": "pie"
           }
          ],
          "scatter": [
           {
            "fillpattern": {
             "fillmode": "overlay",
             "size": 10,
             "solidity": 0.2
            },
            "type": "scatter"
           }
          ],
          "scatter3d": [
           {
            "line": {
             "colorbar": {
              "outlinewidth": 0,
              "ticks": ""
             }
            },
            "marker": {
             "colorbar": {
              "outlinewidth": 0,
              "ticks": ""
             }
            },
            "type": "scatter3d"
           }
          ],
          "scattercarpet": [
           {
            "marker": {
             "colorbar": {
              "outlinewidth": 0,
              "ticks": ""
             }
            },
            "type": "scattercarpet"
           }
          ],
          "scattergeo": [
           {
            "marker": {
             "colorbar": {
              "outlinewidth": 0,
              "ticks": ""
             }
            },
            "type": "scattergeo"
           }
          ],
          "scattergl": [
           {
            "marker": {
             "colorbar": {
              "outlinewidth": 0,
              "ticks": ""
             }
            },
            "type": "scattergl"
           }
          ],
          "scattermapbox": [
           {
            "marker": {
             "colorbar": {
              "outlinewidth": 0,
              "ticks": ""
             }
            },
            "type": "scattermapbox"
           }
          ],
          "scatterpolar": [
           {
            "marker": {
             "colorbar": {
              "outlinewidth": 0,
              "ticks": ""
             }
            },
            "type": "scatterpolar"
           }
          ],
          "scatterpolargl": [
           {
            "marker": {
             "colorbar": {
              "outlinewidth": 0,
              "ticks": ""
             }
            },
            "type": "scatterpolargl"
           }
          ],
          "scatterternary": [
           {
            "marker": {
             "colorbar": {
              "outlinewidth": 0,
              "ticks": ""
             }
            },
            "type": "scatterternary"
           }
          ],
          "surface": [
           {
            "colorbar": {
             "outlinewidth": 0,
             "ticks": ""
            },
            "colorscale": [
             [
              0,
              "#0d0887"
             ],
             [
              0.1111111111111111,
              "#46039f"
             ],
             [
              0.2222222222222222,
              "#7201a8"
             ],
             [
              0.3333333333333333,
              "#9c179e"
             ],
             [
              0.4444444444444444,
              "#bd3786"
             ],
             [
              0.5555555555555556,
              "#d8576b"
             ],
             [
              0.6666666666666666,
              "#ed7953"
             ],
             [
              0.7777777777777778,
              "#fb9f3a"
             ],
             [
              0.8888888888888888,
              "#fdca26"
             ],
             [
              1,
              "#f0f921"
             ]
            ],
            "type": "surface"
           }
          ],
          "table": [
           {
            "cells": {
             "fill": {
              "color": "#EBF0F8"
             },
             "line": {
              "color": "white"
             }
            },
            "header": {
             "fill": {
              "color": "#C8D4E3"
             },
             "line": {
              "color": "white"
             }
            },
            "type": "table"
           }
          ]
         },
         "layout": {
          "annotationdefaults": {
           "arrowcolor": "#2a3f5f",
           "arrowhead": 0,
           "arrowwidth": 1
          },
          "autotypenumbers": "strict",
          "coloraxis": {
           "colorbar": {
            "outlinewidth": 0,
            "ticks": ""
           }
          },
          "colorscale": {
           "diverging": [
            [
             0,
             "#8e0152"
            ],
            [
             0.1,
             "#c51b7d"
            ],
            [
             0.2,
             "#de77ae"
            ],
            [
             0.3,
             "#f1b6da"
            ],
            [
             0.4,
             "#fde0ef"
            ],
            [
             0.5,
             "#f7f7f7"
            ],
            [
             0.6,
             "#e6f5d0"
            ],
            [
             0.7,
             "#b8e186"
            ],
            [
             0.8,
             "#7fbc41"
            ],
            [
             0.9,
             "#4d9221"
            ],
            [
             1,
             "#276419"
            ]
           ],
           "sequential": [
            [
             0,
             "#0d0887"
            ],
            [
             0.1111111111111111,
             "#46039f"
            ],
            [
             0.2222222222222222,
             "#7201a8"
            ],
            [
             0.3333333333333333,
             "#9c179e"
            ],
            [
             0.4444444444444444,
             "#bd3786"
            ],
            [
             0.5555555555555556,
             "#d8576b"
            ],
            [
             0.6666666666666666,
             "#ed7953"
            ],
            [
             0.7777777777777778,
             "#fb9f3a"
            ],
            [
             0.8888888888888888,
             "#fdca26"
            ],
            [
             1,
             "#f0f921"
            ]
           ],
           "sequentialminus": [
            [
             0,
             "#0d0887"
            ],
            [
             0.1111111111111111,
             "#46039f"
            ],
            [
             0.2222222222222222,
             "#7201a8"
            ],
            [
             0.3333333333333333,
             "#9c179e"
            ],
            [
             0.4444444444444444,
             "#bd3786"
            ],
            [
             0.5555555555555556,
             "#d8576b"
            ],
            [
             0.6666666666666666,
             "#ed7953"
            ],
            [
             0.7777777777777778,
             "#fb9f3a"
            ],
            [
             0.8888888888888888,
             "#fdca26"
            ],
            [
             1,
             "#f0f921"
            ]
           ]
          },
          "colorway": [
           "#636efa",
           "#EF553B",
           "#00cc96",
           "#ab63fa",
           "#FFA15A",
           "#19d3f3",
           "#FF6692",
           "#B6E880",
           "#FF97FF",
           "#FECB52"
          ],
          "font": {
           "color": "#2a3f5f"
          },
          "geo": {
           "bgcolor": "white",
           "lakecolor": "white",
           "landcolor": "#E5ECF6",
           "showlakes": true,
           "showland": true,
           "subunitcolor": "white"
          },
          "hoverlabel": {
           "align": "left"
          },
          "hovermode": "closest",
          "mapbox": {
           "style": "light"
          },
          "paper_bgcolor": "white",
          "plot_bgcolor": "#E5ECF6",
          "polar": {
           "angularaxis": {
            "gridcolor": "white",
            "linecolor": "white",
            "ticks": ""
           },
           "bgcolor": "#E5ECF6",
           "radialaxis": {
            "gridcolor": "white",
            "linecolor": "white",
            "ticks": ""
           }
          },
          "scene": {
           "xaxis": {
            "backgroundcolor": "#E5ECF6",
            "gridcolor": "white",
            "gridwidth": 2,
            "linecolor": "white",
            "showbackground": true,
            "ticks": "",
            "zerolinecolor": "white"
           },
           "yaxis": {
            "backgroundcolor": "#E5ECF6",
            "gridcolor": "white",
            "gridwidth": 2,
            "linecolor": "white",
            "showbackground": true,
            "ticks": "",
            "zerolinecolor": "white"
           },
           "zaxis": {
            "backgroundcolor": "#E5ECF6",
            "gridcolor": "white",
            "gridwidth": 2,
            "linecolor": "white",
            "showbackground": true,
            "ticks": "",
            "zerolinecolor": "white"
           }
          },
          "shapedefaults": {
           "line": {
            "color": "#2a3f5f"
           }
          },
          "ternary": {
           "aaxis": {
            "gridcolor": "white",
            "linecolor": "white",
            "ticks": ""
           },
           "baxis": {
            "gridcolor": "white",
            "linecolor": "white",
            "ticks": ""
           },
           "bgcolor": "#E5ECF6",
           "caxis": {
            "gridcolor": "white",
            "linecolor": "white",
            "ticks": ""
           }
          },
          "title": {
           "x": 0.05
          },
          "xaxis": {
           "automargin": true,
           "gridcolor": "white",
           "linecolor": "white",
           "ticks": "",
           "title": {
            "standoff": 15
           },
           "zerolinecolor": "white",
           "zerolinewidth": 2
          },
          "yaxis": {
           "automargin": true,
           "gridcolor": "white",
           "linecolor": "white",
           "ticks": "",
           "title": {
            "standoff": 15
           },
           "zerolinecolor": "white",
           "zerolinewidth": 2
          }
         }
        }
       }
      }
     },
     "metadata": {},
     "output_type": "display_data"
    }
   ],
   "source": [
    "# 計算正向、反向及無變動的數量\n",
    "positive = 0\n",
    "negative = 0\n",
    "zero = 0\n",
    "for i in range(1, len(ROC_df), 2):\n",
    "    rate = ROC_df['日報酬率 %'][i]\n",
    "    if rate == 0:\n",
    "        zero += 1\n",
    "    elif rate > 0:\n",
    "        positive += 1\n",
    "    elif rate < 0:\n",
    "        negative += 1\n",
    "\n",
    "total = zero+positive+negative\n",
    "\n",
    "# 利用plotly套件畫出圓餅圖\n",
    "labels = ['Zero', 'Positive', 'Negative']  # 資料標籤\n",
    "values = [zero, positive, negative]  # 資料數值\n",
    "colors = ['gold', 'mediumturquoise', 'darkorange']  # 顏色\n",
    "\n",
    "fig = go.Figure(data=[go.Pie(labels=labels, values=values)])  # 設定資料\n",
    "\n",
    "fig.update_traces(hoverinfo='label+percent+value',  # 游標資訊\n",
    "                    textinfo='percent+value+label',  # 圖上顯示資訊\n",
    "                    textfont_size=15, # 字體大小\n",
    "                    marker=dict(colors=colors, line=dict(color='#000000', width=1.5)))  # 不同標籤顏色、框線顏色與寬度\n",
    "\n",
    "title_text = (\"內部人持股轉讓後，下一個工作日股市變動情形圓餅圖，總資料筆數為{}筆\" .format(total))  # 圖片主題\n",
    "# fig.update_layout(title_text=title_text)\n",
    "fig.show()"
   ]
  },
  {
   "cell_type": "code",
   "execution_count": null,
   "id": "545fec6a",
   "metadata": {},
   "outputs": [],
   "source": []
  }
 ],
 "metadata": {
  "kernelspec": {
   "display_name": "Python 3",
   "language": "python",
   "name": "python3"
  },
  "language_info": {
   "codemirror_mode": {
    "name": "ipython",
    "version": 3
   },
   "file_extension": ".py",
   "mimetype": "text/x-python",
   "name": "python",
   "nbconvert_exporter": "python",
   "pygments_lexer": "ipython3",
   "version": "3.8.13"
  }
 },
 "nbformat": 4,
 "nbformat_minor": 5
}
