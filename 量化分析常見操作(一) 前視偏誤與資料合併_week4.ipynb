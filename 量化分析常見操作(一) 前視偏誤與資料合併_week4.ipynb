{
 "cells": [
  {
   "cell_type": "markdown",
   "metadata": {},
   "source": [
    "# 量化分析常見操作(一) 前視偏誤與資料合併\n",
    "- 本教學採用 \"付費資料庫\"\n",
    "- 付費資料庫金鑰申請購買: https://eshop.tej.com.tw/E-Shop/index\n",
    "\n",
    "\n",
    "# 看完這篇，將能學習到....\n",
    "- 前視偏誤處理方式\n",
    "- 合併不同資料庫的資料\n",
    "\n",
    "## 1. 查詢試用資料庫代碼\n",
    "\n",
    "本文採用:\n",
    "- 單季財務資料表: 資料庫代碼為 TWN/EWIFINQ           https://eshop.tej.com.tw/E-Shop/Edata_case_detail/1?item_id=TWN/EWIFINQ\n",
    "- 證券交易資料表: 資料庫代碼為 TWN/EWPRCD          https://eshop.tej.com.tw/E-Shop/Edata_case_detail/1?item_id=TWN/EWPRCD\n",
    "\n",
    "## 2. 前視偏誤\n",
    "前視偏差是指在回測時，使用了回測當時還不可用或者還沒有公開的數據，這也是回測中最常見的錯誤。\n",
    "\n",
    "\n",
    "## 3. 導入套件"
   ]
  },
  {
   "cell_type": "code",
   "execution_count": 1,
   "metadata": {},
   "outputs": [],
   "source": [
    "import tejapi\n",
    "import pandas as pd         #量化分析常用套件之一, 縮寫為pd\n",
    "tejapi.ApiConfig.api_key = 'Your Key'\n",
    "tejapi.ApiConfig.ignoretz = True"
   ]
  },
  {
   "cell_type": "markdown",
   "metadata": {},
   "source": [
    "## 4. 台積電2021年數據撈取\n",
    "### 4.1 財務數據撈取"
   ]
  },
  {
   "cell_type": "code",
   "execution_count": 1,
   "metadata": {},
   "outputs": [],
   "source": [
    "#撈取\n"
   ]
  },
  {
   "cell_type": "code",
   "execution_count": 2,
   "metadata": {},
   "outputs": [],
   "source": [
    "#僅選擇部分欄位\n"
   ]
  },
  {
   "cell_type": "markdown",
   "metadata": {},
   "source": [
    "### 4.2 股價資料撈取"
   ]
  },
  {
   "cell_type": "code",
   "execution_count": 3,
   "metadata": {},
   "outputs": [],
   "source": [
    "#股價\n"
   ]
  },
  {
   "cell_type": "markdown",
   "metadata": {},
   "source": [
    "## 5. 資料合併\n",
    "### 5.1 更改欄名"
   ]
  },
  {
   "cell_type": "code",
   "execution_count": 4,
   "metadata": {},
   "outputs": [],
   "source": [
    "#為了有共同欄位名稱、並以此欄位合併\n"
   ]
  },
  {
   "cell_type": "markdown",
   "metadata": {},
   "source": [
    "### 5.2 使用 pandas 套件的merge_ordered() 合併"
   ]
  },
  {
   "cell_type": "code",
   "execution_count": 5,
   "metadata": {},
   "outputs": [],
   "source": [
    "#on 代表以哪些欄位合併；fill_method則是如何填補缺失值\n"
   ]
  },
  {
   "cell_type": "markdown",
   "metadata": {},
   "source": [
    "### 5.3 排除缺失值資料"
   ]
  },
  {
   "cell_type": "code",
   "execution_count": 6,
   "metadata": {},
   "outputs": [],
   "source": [
    "#dropna\n"
   ]
  }
 ],
 "metadata": {
  "kernelspec": {
   "display_name": "Python 3",
   "language": "python",
   "name": "python3"
  },
  "language_info": {
   "codemirror_mode": {
    "name": "ipython",
    "version": 3
   },
   "file_extension": ".py",
   "mimetype": "text/x-python",
   "name": "python",
   "nbconvert_exporter": "python",
   "pygments_lexer": "ipython3",
   "version": "3.7.9"
  }
 },
 "nbformat": 4,
 "nbformat_minor": 4
}
