{
 "cells": [
  {
   "cell_type": "code",
   "execution_count": 1,
   "id": "3160033a",
   "metadata": {},
   "outputs": [],
   "source": [
    "import pandas as pd\n",
    "import numpy as np\n",
    "import tejapi\n",
    "import matplotlib.pyplot as plt\n",
    "import matplotlib.transforms as transforms\n",
    "from matplotlib.font_manager import FontProperties\n",
    "plt.rcParams['font.sans-serif'] = ['Arial Unicode MS'] # 解決MAC電腦 plot中文問題\n",
    "plt.rcParams['axes.unicode_minus'] = False\n",
    "tejapi.ApiConfig.api_key = \"Your Key\"\n",
    "tejapi.ApiConfig.ignoretz = True"
   ]
  },
  {
   "cell_type": "code",
   "execution_count": 2,
   "id": "5b3a41fb",
   "metadata": {},
   "outputs": [],
   "source": [
    "data=tejapi.get('TWN/ANPRCSTD' ,chinese_column_name=True )\n",
    "select=data[\"上市別\"].unique()\n",
    "select=select[1:3]\n",
    "condition =(data[\"上市別\"].isin(select)) & ( data[\"證券種類名稱\"]==\"普通股\" )\n",
    "data=data[condition]\n",
    "twid=data[\"證券碼\"].to_list()  #取得上市櫃股票證券碼"
   ]
  },
  {
   "cell_type": "code",
   "execution_count": 3,
   "id": "b017876d",
   "metadata": {},
   "outputs": [],
   "source": [
    "def get_data(code:str, id_):\n",
    "    df = tejapi.get(code, #從TEJ api撈取所需要的資料\n",
    "                  chinese_column_name = True,\n",
    "                  paginate = True,\n",
    "                  mdate = {'gt':'2013-04-01', 'lt':'2021-12-31'},\n",
    "                  coid=id_,\n",
    "                  opts={'columns':['coid','mdate','close_adj']})\n",
    "    return df"
   ]
  },
  {
   "cell_type": "code",
   "execution_count": 4,
   "id": "be19d929",
   "metadata": {},
   "outputs": [],
   "source": [
    "def get_data1(code:str, id_):\n",
    "    df = tejapi.get(code, #從TEJ api撈取所需要的資料\n",
    "                  chinese_column_name = True,\n",
    "                  paginate = True,\n",
    "                  mdate = {'gt':'2013-04-01', 'lt':'2021-12-31'},\n",
    "                  coid=id_,\n",
    "                  opts={'columns':['coid','annd_s', 'd0003', 'd0004']})\n",
    "    return df"
   ]
  },
  {
   "cell_type": "code",
   "execution_count": null,
   "id": "59962a59",
   "metadata": {},
   "outputs": [],
   "source": [
    "# df_1 = tejapi.get('TWN/APRCD1', #從TEJ api撈取所需要的資料\n",
    "#                   chinese_column_name = True,\n",
    "#                   paginate = True,\n",
    "#                   mdate = {'gt':'2013-04-01', 'lt':'2021-12-31'},\n",
    "#                   coid=1101,\n",
    "#                   opts={'columns':['coid','mdate','close_adj']})"
   ]
  },
  {
   "cell_type": "code",
   "execution_count": null,
   "id": "46da1da5",
   "metadata": {},
   "outputs": [],
   "source": [
    "# df = tejapi.get('TWN/ASALE', #從TEJ api撈取所需要的資料\n",
    "#                 chinese_column_name = True,\n",
    "#                 paginate = True,\n",
    "#                 mdate = {'gt':'2013-04-01', 'lt':'2021-12-31'},\n",
    "#                 coid = 1101,\n",
    "#                 opts={'columns':['coid','annd_s', 'd0003', 'd0004']})"
   ]
  },
  {
   "cell_type": "code",
   "execution_count": null,
   "id": "06bab173",
   "metadata": {},
   "outputs": [],
   "source": [
    "df_1 = get_data('TWN/APRCD1', i)\n",
    "df = get_data1('TWN/ASALE', i)\n",
    "df.rename(columns={'營收發布日':'年月日','單月營收成長率%':'yoy', '單月營收與上月比%':'mom', '公司':'證券代碼'}, inplace=True)\n",
    "df['yoy3'] = df['yoy'].rolling(5).mean()\n",
    "df['mom3'] = df['mom'].rolling(10).mean()\n",
    "\n",
    "df2 = df_1.merge(df, on=['證券代碼', '年月日'], how='outer')\n",
    "df2 = df2.sort_values(by='年月日')\n",
    "df2[['yoy', 'mom','yoy3','mom3']] = df2[['yoy', 'mom','yoy3',\"mom3\"]].shift(1)\n",
    "df3 = df2.dropna()\n",
    "df3.set_index(df3['年月日'], inplace=True)\n",
    "df3.drop(columns={'年月日'}, inplace=True)"
   ]
  },
  {
   "cell_type": "code",
   "execution_count": 5,
   "id": "a2798c8c",
   "metadata": {},
   "outputs": [],
   "source": [
    "def buysell(data, id_):\n",
    "    data =data.copy()\n",
    "    buy=[]\n",
    "    sell=[]\n",
    "    hold=0\n",
    "    for i in range(len(data)):\n",
    "    \n",
    "        if  (data[\"yoy\"][i] > data[\"yoy3\"][i]) & (data[\"mom\"][i] > data[\"mom3\"][i]):\n",
    "            sell.append(np.nan)\n",
    "            if hold !=1:\n",
    "                buy.append(data[\"收盤價(元)\"][i])\n",
    "                \n",
    "                hold = 1\n",
    "            else: \n",
    "                buy.append(np.nan)\n",
    "        elif (data[\"yoy\"][i] < data[\"yoy3\"][i]) & (data[\"mom\"][i] < data[\"mom3\"][i]):\n",
    "            buy.append(np.nan)\n",
    "            if hold !=0:\n",
    "                sell.append(data[\"收盤價(元)\"][i])\n",
    "                hold = 0\n",
    "            else:\n",
    "                sell.append(np.nan)\n",
    "        else:\n",
    "            buy.append(np.nan)\n",
    "            sell.append(np.nan)\n",
    "    a=(buy,sell)\n",
    "        \n",
    "    data['Buy_Signal_Price']=a[0]\n",
    "    data['Sell_Signal_Price']=a[1]\n",
    "    data[\"買賣股數1\"]=data['Buy_Signal_Price'].apply(lambda x : 1 if x >0 else 0)\n",
    "    data[\"買賣股數2\"]=data['Sell_Signal_Price'].apply(lambda x : -1 if x >0 else 0  )\n",
    "    data[\"買賣股數\"]=data[\"買賣股數1\"]+ data[\"買賣股數2\"]\n",
    "    \n",
    "    b = data[['Buy_Signal_Price']].dropna()\n",
    "    c = data[['Sell_Signal_Price']].dropna()\n",
    "    d = pd.DataFrame(index=c.index, columns = {\"Buy_Signal_Price\", 'Sell_Signal_Price'})\n",
    "    for i in range(len(d.index)):\n",
    "        d[\"Buy_Signal_Price\"][i] = b[\"Buy_Signal_Price\"][i]\n",
    "        d['Sell_Signal_Price'][i] = c['Sell_Signal_Price'][i]\n",
    "    d['hold_return'] = (d['Sell_Signal_Price']-d['Buy_Signal_Price'])/d['Buy_Signal_Price']\n",
    "    win_rate = ((np.where(d['hold_return']>0, 1, 0).sum())/len(d.index))*100\n",
    "    hold_ret = (d['hold_return'].sum())*100\n",
    "    e = pd.DataFrame({'報酬':hold_ret, '勝率':win_rate}, index={str(id_)}) \n",
    "    return e"
   ]
  },
  {
   "cell_type": "code",
   "execution_count": null,
   "id": "817728d6",
   "metadata": {},
   "outputs": [],
   "source": [
    "qq = pd.DataFrame()\n",
    "for i in twid[:]:\n",
    "    df_1 = get_data(\"TWN/APRCD1\",i)\n",
    "    df = get_data1(\"TWN/ASALE\",i)\n",
    "    df.rename(columns={'營收發布日':'年月日','單月營收成長率%':'yoy', '單月營收與上月比%':'mom', '公司':'證券代碼'}, inplace=True)\n",
    "    df['yoy3'] = df['yoy'].rolling(5).mean()\n",
    "    df['mom3'] = df['mom'].rolling(10).mean()\n",
    "    df2 = df_1.merge(df, on=['證券代碼', '年月日'], how='outer')\n",
    "    df2 = df2.sort_values(by='年月日')\n",
    "    df2[['yoy', 'mom','yoy3','mom3']] = df2[['yoy', 'mom','yoy3',\"mom3\"]].shift(1)\n",
    "    df3 = df2.dropna()\n",
    "    df3.set_index(df3['年月日'], inplace=True)\n",
    "    df3.drop(columns={'年月日'}, inplace=True)\n",
    "    qq = qq.append(buysell(df3, i))\n",
    "    print(i)\n",
    "qq.index.name = '證券碼'"
   ]
  },
  {
   "cell_type": "code",
   "execution_count": 6,
   "id": "44cea95d",
   "metadata": {},
   "outputs": [],
   "source": [
    "qq = pd.read_csv('月營收.csv')"
   ]
  },
  {
   "cell_type": "code",
   "execution_count": 7,
   "id": "9e835549",
   "metadata": {},
   "outputs": [],
   "source": [
    "qq = qq.rename(columns={'Unnamed: 0':'證券碼'})"
   ]
  },
  {
   "cell_type": "code",
   "execution_count": 8,
   "id": "7834b747",
   "metadata": {},
   "outputs": [],
   "source": [
    "qq['證券碼'] = qq[['證券碼']].applymap(lambda x:str(x))"
   ]
  },
  {
   "cell_type": "code",
   "execution_count": 9,
   "id": "b168c893",
   "metadata": {},
   "outputs": [],
   "source": [
    "qq.set_index(qq['證券碼'],inplace=True)"
   ]
  },
  {
   "cell_type": "code",
   "execution_count": 10,
   "id": "410f7b02",
   "metadata": {},
   "outputs": [],
   "source": [
    "qq.drop(columns={'證券碼'}, inplace = True)"
   ]
  },
  {
   "cell_type": "code",
   "execution_count": 11,
   "id": "124b471a",
   "metadata": {},
   "outputs": [
    {
     "data": {
      "text/html": [
       "<div>\n",
       "<style scoped>\n",
       "    .dataframe tbody tr th:only-of-type {\n",
       "        vertical-align: middle;\n",
       "    }\n",
       "\n",
       "    .dataframe tbody tr th {\n",
       "        vertical-align: top;\n",
       "    }\n",
       "\n",
       "    .dataframe thead th {\n",
       "        text-align: right;\n",
       "    }\n",
       "</style>\n",
       "<table border=\"1\" class=\"dataframe\">\n",
       "  <thead>\n",
       "    <tr style=\"text-align: right;\">\n",
       "      <th></th>\n",
       "      <th>報酬</th>\n",
       "      <th>勝率</th>\n",
       "    </tr>\n",
       "    <tr>\n",
       "      <th>證券碼</th>\n",
       "      <th></th>\n",
       "      <th></th>\n",
       "    </tr>\n",
       "  </thead>\n",
       "  <tbody>\n",
       "    <tr>\n",
       "      <th>1101</th>\n",
       "      <td>49.099029</td>\n",
       "      <td>54.545455</td>\n",
       "    </tr>\n",
       "    <tr>\n",
       "      <th>1102</th>\n",
       "      <td>55.589627</td>\n",
       "      <td>58.333333</td>\n",
       "    </tr>\n",
       "    <tr>\n",
       "      <th>1103</th>\n",
       "      <td>68.876273</td>\n",
       "      <td>60.000000</td>\n",
       "    </tr>\n",
       "    <tr>\n",
       "      <th>1104</th>\n",
       "      <td>28.355913</td>\n",
       "      <td>68.750000</td>\n",
       "    </tr>\n",
       "    <tr>\n",
       "      <th>1108</th>\n",
       "      <td>12.914957</td>\n",
       "      <td>40.000000</td>\n",
       "    </tr>\n",
       "    <tr>\n",
       "      <th>...</th>\n",
       "      <td>...</td>\n",
       "      <td>...</td>\n",
       "    </tr>\n",
       "    <tr>\n",
       "      <th>9951</th>\n",
       "      <td>57.428088</td>\n",
       "      <td>57.142857</td>\n",
       "    </tr>\n",
       "    <tr>\n",
       "      <th>9955</th>\n",
       "      <td>-29.987316</td>\n",
       "      <td>35.294118</td>\n",
       "    </tr>\n",
       "    <tr>\n",
       "      <th>9958</th>\n",
       "      <td>109.106182</td>\n",
       "      <td>45.454545</td>\n",
       "    </tr>\n",
       "    <tr>\n",
       "      <th>9960</th>\n",
       "      <td>118.700424</td>\n",
       "      <td>50.000000</td>\n",
       "    </tr>\n",
       "    <tr>\n",
       "      <th>9962</th>\n",
       "      <td>22.152303</td>\n",
       "      <td>50.000000</td>\n",
       "    </tr>\n",
       "  </tbody>\n",
       "</table>\n",
       "<p>1663 rows × 2 columns</p>\n",
       "</div>"
      ],
      "text/plain": [
       "              報酬         勝率\n",
       "證券碼                        \n",
       "1101   49.099029  54.545455\n",
       "1102   55.589627  58.333333\n",
       "1103   68.876273  60.000000\n",
       "1104   28.355913  68.750000\n",
       "1108   12.914957  40.000000\n",
       "...          ...        ...\n",
       "9951   57.428088  57.142857\n",
       "9955  -29.987316  35.294118\n",
       "9958  109.106182  45.454545\n",
       "9960  118.700424  50.000000\n",
       "9962   22.152303  50.000000\n",
       "\n",
       "[1663 rows x 2 columns]"
      ]
     },
     "execution_count": 11,
     "metadata": {},
     "output_type": "execute_result"
    }
   ],
   "source": [
    "qq"
   ]
  },
  {
   "cell_type": "code",
   "execution_count": 14,
   "id": "a5daa494",
   "metadata": {},
   "outputs": [
    {
     "name": "stdout",
     "output_type": "stream",
     "text": [
      "報酬     0\n",
      "勝率    54\n",
      "dtype: int64\n"
     ]
    }
   ],
   "source": [
    "print(qq.isna().sum())\n",
    "qq.dropna(inplace=True)"
   ]
  },
  {
   "cell_type": "code",
   "execution_count": 16,
   "id": "c59834d4",
   "metadata": {},
   "outputs": [
    {
     "name": "stdout",
     "output_type": "stream",
     "text": [
      "勝率： 52.03301257275607\n",
      "報酬率： 66.44750522557626\n"
     ]
    }
   ],
   "source": [
    "print('勝率：',qq['勝率'].mean())\n",
    "print('報酬率：',qq['報酬'].mean())"
   ]
  },
  {
   "cell_type": "code",
   "execution_count": 18,
   "id": "fd44f463",
   "metadata": {},
   "outputs": [
    {
     "data": {
      "text/plain": [
       "57.73772529521442"
      ]
     },
     "execution_count": 18,
     "metadata": {},
     "output_type": "execute_result"
    }
   ],
   "source": [
    "qq['count'] = np.where( (qq['報酬']>0) &(qq['勝率']>= 50),1,0)\n",
    "(qq['count'].sum()/qq['count'].count())*100"
   ]
  },
  {
   "cell_type": "code",
   "execution_count": 19,
   "id": "92c1c295",
   "metadata": {},
   "outputs": [],
   "source": [
    "qq['20%'] = np.where((qq['勝率']>= 80),1,0)\n",
    "qq['40%'] = np.where((qq['勝率']>= 60)& (qq['勝率']< 80),1,0)\n",
    "qq['60%'] = np.where((qq['勝率']>= 40)& (qq['勝率']< 60),1,0)\n",
    "qq['80%'] = np.where((qq['勝率']>= 20)& (qq['勝率']< 40),1,0)\n",
    "qq['100%'] = np.where((qq['勝率']<20),1,0)\n",
    "z5 = [qq['20%'].sum(),qq['40%'].sum(), qq['60%'].sum(), qq['80%'].sum(),qq['100%'].sum()]"
   ]
  },
  {
   "cell_type": "code",
   "execution_count": 20,
   "id": "76da1c56",
   "metadata": {},
   "outputs": [
    {
     "data": {
      "image/png": "[encoded data removed]",
      "text/plain": [
       "<Figure size 576x720 with 1 Axes>"
      ]
     },
     "metadata": {},
     "output_type": "display_data"
    }
   ],
   "source": [
    "plt.figure(figsize=(8,10))\n",
    "plt.pie(z5,\n",
    "        radius=1,\n",
    "        labels=['勝率>80%','80%>勝率>60%','60%>勝率>40%','40%>勝率>20%','勝率<20%'],\n",
    "        autopct='%.1f%%',    # %.1f%% 表示顯示小數點一位的浮點數，後方加上百分比符號     \n",
    "        pctdistance = 0.6,             \n",
    "        textprops = {\"fontsize\" : 18})  # 文字大小)   \n",
    "plt.title('月營收成長率策略勝率佔比', {\"fontsize\":18})\n",
    "plt.legend(loc = \"best\")\n",
    "plt.axis('equal')\n",
    "        \n",
    "plt.show()"
   ]
  },
  {
   "cell_type": "code",
   "execution_count": 25,
   "id": "f5317472",
   "metadata": {},
   "outputs": [
    {
     "data": {
      "text/plain": [
       "0.6090739589807334"
      ]
     },
     "execution_count": 25,
     "metadata": {},
     "output_type": "execute_result"
    }
   ],
   "source": [
    "len((qq[qq['勝率']>=50]).index)/len(qq.index)"
   ]
  },
  {
   "cell_type": "code",
   "execution_count": null,
   "id": "257b84df",
   "metadata": {},
   "outputs": [],
   "source": []
  }
 ],
 "metadata": {
  "kernelspec": {
   "display_name": "Python 3.9.12 ('base')",
   "language": "python",
   "name": "python3"
  },
  "language_info": {
   "codemirror_mode": {
    "name": "ipython",
    "version": 3
   },
   "file_extension": ".py",
   "mimetype": "text/x-python",
   "name": "python",
   "nbconvert_exporter": "python",
   "pygments_lexer": "ipython3",
   "version": "3.9.12"
  },
  "vscode": {
   "interpreter": {
    "hash": "3e06028060a7864164bfee2227bae8dfd39c60041c455d9e6b5a8dd3aec9b09f"
   }
  }
 },
 "nbformat": 4,
 "nbformat_minor": 5
}
