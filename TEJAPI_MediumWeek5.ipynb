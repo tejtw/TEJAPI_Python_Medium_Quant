{
 "cells": [
  {
   "cell_type": "markdown",
   "id": "dependent-split",
   "metadata": {},
   "source": [
    "## Week 5 Medium - 定期定額投資回測"
   ]
  },
  {
   "cell_type": "code",
   "execution_count": 1,
   "id": "fluid-albert",
   "metadata": {},
   "outputs": [],
   "source": [
    "import pandas as pd\n",
    "import numpy as np\n",
    "import matplotlib.pyplot as plt\n",
    "import matplotlib.ticker as ticker\n",
    "import matplotlib.transforms as transforms\n",
    "import numpy_financial as npf\n",
    "\n",
    "\n",
    "import datetime\n",
    "\n",
    "import tejapi\n",
    "tejapi.ApiConfig.api_key = \"your key\""
   ]
  },
  {
   "cell_type": "code",
   "execution_count": 2,
   "id": "dutch-portuguese",
   "metadata": {},
   "outputs": [],
   "source": [
    "### 資料撈取 from TEJ API\n",
    "\n",
    "TW0050 = tejapi.get(\n",
    "        'TWN/EWPRCD', \n",
    "        coid = '0050',\n",
    "        mdate={'gte':'2016-01-01', 'lte':'2020-12-31'}, \n",
    "        opts={'columns': ['mdate','close_adj']}, \n",
    "        paginate=True\n",
    "        )\n",
    "\n",
    "TW0050['mdate'] = TW0050.loc[:,'mdate'].astype('datetime64[ns]')"
   ]
  },
  {
   "cell_type": "markdown",
   "id": "grave-illness",
   "metadata": {},
   "source": [
    "### 1. 將資料整理成月資料"
   ]
  },
  {
   "cell_type": "code",
   "execution_count": 3,
   "id": "completed-service",
   "metadata": {},
   "outputs": [
    {
     "data": {
      "text/html": [
       "<div>\n",
       "<style scoped>\n",
       "    .dataframe tbody tr th:only-of-type {\n",
       "        vertical-align: middle;\n",
       "    }\n",
       "\n",
       "    .dataframe tbody tr th {\n",
       "        vertical-align: top;\n",
       "    }\n",
       "\n",
       "    .dataframe thead th {\n",
       "        text-align: right;\n",
       "    }\n",
       "</style>\n",
       "<table border=\"1\" class=\"dataframe\">\n",
       "  <thead>\n",
       "    <tr style=\"text-align: right;\">\n",
       "      <th></th>\n",
       "      <th>close_adj</th>\n",
       "    </tr>\n",
       "    <tr>\n",
       "      <th>mdate</th>\n",
       "      <th></th>\n",
       "    </tr>\n",
       "  </thead>\n",
       "  <tbody>\n",
       "    <tr>\n",
       "      <th>2016-01-04</th>\n",
       "      <td>49.8465</td>\n",
       "    </tr>\n",
       "    <tr>\n",
       "      <th>2016-01-05</th>\n",
       "      <td>49.4280</td>\n",
       "    </tr>\n",
       "    <tr>\n",
       "      <th>2016-01-06</th>\n",
       "      <td>48.9257</td>\n",
       "    </tr>\n",
       "    <tr>\n",
       "      <th>2016-01-07</th>\n",
       "      <td>48.0050</td>\n",
       "    </tr>\n",
       "    <tr>\n",
       "      <th>2016-01-08</th>\n",
       "      <td>48.0887</td>\n",
       "    </tr>\n",
       "    <tr>\n",
       "      <th>...</th>\n",
       "      <td>...</td>\n",
       "    </tr>\n",
       "    <tr>\n",
       "      <th>2020-12-25</th>\n",
       "      <td>116.4129</td>\n",
       "    </tr>\n",
       "    <tr>\n",
       "      <th>2020-12-28</th>\n",
       "      <td>117.4405</td>\n",
       "    </tr>\n",
       "    <tr>\n",
       "      <th>2020-12-29</th>\n",
       "      <td>117.3427</td>\n",
       "    </tr>\n",
       "    <tr>\n",
       "      <th>2020-12-30</th>\n",
       "      <td>119.0064</td>\n",
       "    </tr>\n",
       "    <tr>\n",
       "      <th>2020-12-31</th>\n",
       "      <td>119.6425</td>\n",
       "    </tr>\n",
       "  </tbody>\n",
       "</table>\n",
       "<p>1224 rows × 1 columns</p>\n",
       "</div>"
      ],
      "text/plain": [
       "            close_adj\n",
       "mdate                \n",
       "2016-01-04    49.8465\n",
       "2016-01-05    49.4280\n",
       "2016-01-06    48.9257\n",
       "2016-01-07    48.0050\n",
       "2016-01-08    48.0887\n",
       "...               ...\n",
       "2020-12-25   116.4129\n",
       "2020-12-28   117.4405\n",
       "2020-12-29   117.3427\n",
       "2020-12-30   119.0064\n",
       "2020-12-31   119.6425\n",
       "\n",
       "[1224 rows x 1 columns]"
      ]
     },
     "execution_count": 3,
     "metadata": {},
     "output_type": "execute_result"
    }
   ],
   "source": [
    "TW0050 = TW0050.set_index('mdate')\n",
    "TW0050"
   ]
  },
  {
   "cell_type": "code",
   "execution_count": 4,
   "id": "demonstrated-bulgarian",
   "metadata": {},
   "outputs": [
    {
     "data": {
      "text/html": [
       "<div>\n",
       "<style scoped>\n",
       "    .dataframe tbody tr th:only-of-type {\n",
       "        vertical-align: middle;\n",
       "    }\n",
       "\n",
       "    .dataframe tbody tr th {\n",
       "        vertical-align: top;\n",
       "    }\n",
       "\n",
       "    .dataframe thead th {\n",
       "        text-align: right;\n",
       "    }\n",
       "</style>\n",
       "<table border=\"1\" class=\"dataframe\">\n",
       "  <thead>\n",
       "    <tr style=\"text-align: right;\">\n",
       "      <th></th>\n",
       "      <th>close_adj</th>\n",
       "    </tr>\n",
       "    <tr>\n",
       "      <th>mdate</th>\n",
       "      <th></th>\n",
       "    </tr>\n",
       "  </thead>\n",
       "  <tbody>\n",
       "    <tr>\n",
       "      <th>2016-01-01</th>\n",
       "      <td>49.8465</td>\n",
       "    </tr>\n",
       "    <tr>\n",
       "      <th>2016-02-01</th>\n",
       "      <td>49.8465</td>\n",
       "    </tr>\n",
       "    <tr>\n",
       "      <th>2016-03-01</th>\n",
       "      <td>51.7717</td>\n",
       "    </tr>\n",
       "    <tr>\n",
       "      <th>2016-04-01</th>\n",
       "      <td>53.4877</td>\n",
       "    </tr>\n",
       "    <tr>\n",
       "      <th>2016-05-01</th>\n",
       "      <td>50.8510</td>\n",
       "    </tr>\n",
       "    <tr>\n",
       "      <th>...</th>\n",
       "      <td>...</td>\n",
       "    </tr>\n",
       "    <tr>\n",
       "      <th>2020-09-01</th>\n",
       "      <td>101.1456</td>\n",
       "    </tr>\n",
       "    <tr>\n",
       "      <th>2020-10-01</th>\n",
       "      <td>100.8520</td>\n",
       "    </tr>\n",
       "    <tr>\n",
       "      <th>2020-11-01</th>\n",
       "      <td>101.1946</td>\n",
       "    </tr>\n",
       "    <tr>\n",
       "      <th>2020-12-01</th>\n",
       "      <td>111.8621</td>\n",
       "    </tr>\n",
       "    <tr>\n",
       "      <th>2020-12-31</th>\n",
       "      <td>119.6425</td>\n",
       "    </tr>\n",
       "  </tbody>\n",
       "</table>\n",
       "<p>61 rows × 1 columns</p>\n",
       "</div>"
      ],
      "text/plain": [
       "            close_adj\n",
       "mdate                \n",
       "2016-01-01    49.8465\n",
       "2016-02-01    49.8465\n",
       "2016-03-01    51.7717\n",
       "2016-04-01    53.4877\n",
       "2016-05-01    50.8510\n",
       "...               ...\n",
       "2020-09-01   101.1456\n",
       "2020-10-01   100.8520\n",
       "2020-11-01   101.1946\n",
       "2020-12-01   111.8621\n",
       "2020-12-31   119.6425\n",
       "\n",
       "[61 rows x 1 columns]"
      ]
     },
     "execution_count": 4,
     "metadata": {},
     "output_type": "execute_result"
    }
   ],
   "source": [
    "TW0050_monthly = TW0050.resample('MS').first()\n",
    "TW0050_monthly = TW0050_monthly.append(TW0050.iloc[-1])\n",
    "TW0050_monthly"
   ]
  },
  {
   "cell_type": "markdown",
   "id": "prompt-peter",
   "metadata": {},
   "source": [
    "### 2. 每月月初投入10000新台幣、期間不領回"
   ]
  },
  {
   "cell_type": "code",
   "execution_count": 5,
   "id": "graduate-occupation",
   "metadata": {},
   "outputs": [],
   "source": [
    "TW0050_monthly['每月購買股數']= np.floor(10000 / TW0050_monthly['close_adj'])\n",
    "TW0050_monthly['每月購買股數'][-1] = 0"
   ]
  },
  {
   "cell_type": "code",
   "execution_count": 6,
   "id": "velvet-airfare",
   "metadata": {},
   "outputs": [],
   "source": [
    "TW0050_monthly['累積股數'] = TW0050_monthly['每月購買股數'].cumsum()"
   ]
  },
  {
   "cell_type": "code",
   "execution_count": 7,
   "id": "secure-stand",
   "metadata": {},
   "outputs": [],
   "source": [
    "TW0050_monthly['累積價值(月)'] = round(TW0050_monthly['累積股數'] * TW0050_monthly['close_adj'],2)"
   ]
  },
  {
   "cell_type": "code",
   "execution_count": 8,
   "id": "quiet-romance",
   "metadata": {},
   "outputs": [],
   "source": [
    "TW0050_monthly['原始價值(月)'] = [10000*i for i in range(len(TW0050_monthly.index))]\n",
    "TW0050_monthly['原始價值(月)'] = TW0050_monthly['原始價值(月)'].shift(-1)\n",
    "TW0050_monthly['原始價值(月)'][-1] = TW0050_monthly['原始價值(月)'][-2]"
   ]
  },
  {
   "cell_type": "code",
   "execution_count": 9,
   "id": "wicked-interim",
   "metadata": {},
   "outputs": [],
   "source": [
    "TW0050_monthly['累積報酬(月)'] = round((TW0050_monthly['累積價值(月)']-TW0050_monthly['原始價值(月)'])/TW0050_monthly['原始價值(月)'], 6) +1"
   ]
  },
  {
   "cell_type": "code",
   "execution_count": 10,
   "id": "nuclear-journalist",
   "metadata": {},
   "outputs": [
    {
     "data": {
      "text/html": [
       "<div>\n",
       "<style scoped>\n",
       "    .dataframe tbody tr th:only-of-type {\n",
       "        vertical-align: middle;\n",
       "    }\n",
       "\n",
       "    .dataframe tbody tr th {\n",
       "        vertical-align: top;\n",
       "    }\n",
       "\n",
       "    .dataframe thead th {\n",
       "        text-align: right;\n",
       "    }\n",
       "</style>\n",
       "<table border=\"1\" class=\"dataframe\">\n",
       "  <thead>\n",
       "    <tr style=\"text-align: right;\">\n",
       "      <th></th>\n",
       "      <th>close_adj</th>\n",
       "      <th>每月購買股數</th>\n",
       "      <th>累積股數</th>\n",
       "      <th>累積價值(月)</th>\n",
       "      <th>原始價值(月)</th>\n",
       "      <th>累積報酬(月)</th>\n",
       "    </tr>\n",
       "    <tr>\n",
       "      <th>mdate</th>\n",
       "      <th></th>\n",
       "      <th></th>\n",
       "      <th></th>\n",
       "      <th></th>\n",
       "      <th></th>\n",
       "      <th></th>\n",
       "    </tr>\n",
       "  </thead>\n",
       "  <tbody>\n",
       "    <tr>\n",
       "      <th>2016-01-01</th>\n",
       "      <td>49.8465</td>\n",
       "      <td>200.0</td>\n",
       "      <td>200.0</td>\n",
       "      <td>9969.30</td>\n",
       "      <td>10000.0</td>\n",
       "      <td>0.996930</td>\n",
       "    </tr>\n",
       "    <tr>\n",
       "      <th>2016-02-01</th>\n",
       "      <td>49.8465</td>\n",
       "      <td>200.0</td>\n",
       "      <td>400.0</td>\n",
       "      <td>19938.60</td>\n",
       "      <td>20000.0</td>\n",
       "      <td>0.996930</td>\n",
       "    </tr>\n",
       "    <tr>\n",
       "      <th>2016-03-01</th>\n",
       "      <td>51.7717</td>\n",
       "      <td>193.0</td>\n",
       "      <td>593.0</td>\n",
       "      <td>30700.62</td>\n",
       "      <td>30000.0</td>\n",
       "      <td>1.023354</td>\n",
       "    </tr>\n",
       "    <tr>\n",
       "      <th>2016-04-01</th>\n",
       "      <td>53.4877</td>\n",
       "      <td>186.0</td>\n",
       "      <td>779.0</td>\n",
       "      <td>41666.92</td>\n",
       "      <td>40000.0</td>\n",
       "      <td>1.041673</td>\n",
       "    </tr>\n",
       "    <tr>\n",
       "      <th>2016-05-01</th>\n",
       "      <td>50.8510</td>\n",
       "      <td>196.0</td>\n",
       "      <td>975.0</td>\n",
       "      <td>49579.72</td>\n",
       "      <td>50000.0</td>\n",
       "      <td>0.991594</td>\n",
       "    </tr>\n",
       "    <tr>\n",
       "      <th>...</th>\n",
       "      <td>...</td>\n",
       "      <td>...</td>\n",
       "      <td>...</td>\n",
       "      <td>...</td>\n",
       "      <td>...</td>\n",
       "      <td>...</td>\n",
       "    </tr>\n",
       "    <tr>\n",
       "      <th>2020-09-01</th>\n",
       "      <td>101.1456</td>\n",
       "      <td>98.0</td>\n",
       "      <td>8158.0</td>\n",
       "      <td>825145.80</td>\n",
       "      <td>570000.0</td>\n",
       "      <td>1.447624</td>\n",
       "    </tr>\n",
       "    <tr>\n",
       "      <th>2020-10-01</th>\n",
       "      <td>100.8520</td>\n",
       "      <td>99.0</td>\n",
       "      <td>8257.0</td>\n",
       "      <td>832734.96</td>\n",
       "      <td>580000.0</td>\n",
       "      <td>1.435750</td>\n",
       "    </tr>\n",
       "    <tr>\n",
       "      <th>2020-11-01</th>\n",
       "      <td>101.1946</td>\n",
       "      <td>98.0</td>\n",
       "      <td>8355.0</td>\n",
       "      <td>845480.88</td>\n",
       "      <td>590000.0</td>\n",
       "      <td>1.433018</td>\n",
       "    </tr>\n",
       "    <tr>\n",
       "      <th>2020-12-01</th>\n",
       "      <td>111.8621</td>\n",
       "      <td>89.0</td>\n",
       "      <td>8444.0</td>\n",
       "      <td>944563.57</td>\n",
       "      <td>600000.0</td>\n",
       "      <td>1.574273</td>\n",
       "    </tr>\n",
       "    <tr>\n",
       "      <th>2020-12-31</th>\n",
       "      <td>119.6425</td>\n",
       "      <td>0.0</td>\n",
       "      <td>8444.0</td>\n",
       "      <td>1010261.27</td>\n",
       "      <td>600000.0</td>\n",
       "      <td>1.683769</td>\n",
       "    </tr>\n",
       "  </tbody>\n",
       "</table>\n",
       "<p>61 rows × 6 columns</p>\n",
       "</div>"
      ],
      "text/plain": [
       "            close_adj  每月購買股數    累積股數     累積價值(月)   原始價值(月)   累積報酬(月)\n",
       "mdate                                                                \n",
       "2016-01-01    49.8465   200.0   200.0     9969.30   10000.0  0.996930\n",
       "2016-02-01    49.8465   200.0   400.0    19938.60   20000.0  0.996930\n",
       "2016-03-01    51.7717   193.0   593.0    30700.62   30000.0  1.023354\n",
       "2016-04-01    53.4877   186.0   779.0    41666.92   40000.0  1.041673\n",
       "2016-05-01    50.8510   196.0   975.0    49579.72   50000.0  0.991594\n",
       "...               ...     ...     ...         ...       ...       ...\n",
       "2020-09-01   101.1456    98.0  8158.0   825145.80  570000.0  1.447624\n",
       "2020-10-01   100.8520    99.0  8257.0   832734.96  580000.0  1.435750\n",
       "2020-11-01   101.1946    98.0  8355.0   845480.88  590000.0  1.433018\n",
       "2020-12-01   111.8621    89.0  8444.0   944563.57  600000.0  1.574273\n",
       "2020-12-31   119.6425     0.0  8444.0  1010261.27  600000.0  1.683769\n",
       "\n",
       "[61 rows x 6 columns]"
      ]
     },
     "execution_count": 10,
     "metadata": {},
     "output_type": "execute_result"
    }
   ],
   "source": [
    "TW0050_monthly"
   ]
  },
  {
   "cell_type": "markdown",
   "id": "derived-transport",
   "metadata": {},
   "source": [
    "### 3. 作圖（累積資產、月報酬）"
   ]
  },
  {
   "cell_type": "code",
   "execution_count": 11,
   "id": "humanitarian-spyware",
   "metadata": {},
   "outputs": [
    {
     "data": {
      "image/png": "[encoded data removed]",
      "text/plain": [
       "<Figure size 720x432 with 1 Axes>"
      ]
     },
     "metadata": {
      "needs_background": "light"
     },
     "output_type": "display_data"
    }
   ],
   "source": [
    "plt.figure(figsize = (10, 6))\n",
    "plt.plot(TW0050_monthly['累積價值(月)'], lw=1.5, label = '0050')\n",
    "plt.plot(TW0050_monthly['原始價值(月)'], lw=1.5, label = 'Original Asset')\n",
    "plt.xlabel('Time(Year)')\n",
    "plt.ylabel('Value')\n",
    "plt.legend(loc = 0) \n",
    "plt.grid()"
   ]
  },
  {
   "cell_type": "code",
   "execution_count": 12,
   "id": "refined-radiation",
   "metadata": {},
   "outputs": [
    {
     "data": {
      "image/png": "[encoded data removed]",
      "text/plain": [
       "<Figure size 864x432 with 1 Axes>"
      ]
     },
     "metadata": {
      "needs_background": "light"
     },
     "output_type": "display_data"
    }
   ],
   "source": [
    "ret = np.log(TW0050_monthly['累積報酬(月)']/TW0050_monthly['累積報酬(月)'].shift(1))\n",
    "\n",
    "fig, ax = plt.subplots()\n",
    "ret.plot(kind=\"bar\", figsize=(12,6), stacked=True, ax=ax)\n",
    "\n",
    "##建立一個空陣列，長度為資料總月份的長度\n",
    "ticklabels = ['']*len(TW0050_monthly.index)\n",
    "\n",
    "##每6個月展示出其月份跟日期\n",
    "ticklabels[::6] = [item.strftime('%b %d') for item in TW0050_monthly.index[::6]]\n",
    "\n",
    "##每12個月額外展示出年份\n",
    "ticklabels[::12] = [item.strftime('%b %d\\n%Y') for item in TW0050_monthly.index[::12]]\n",
    "\n",
    "ax.xaxis.set_major_formatter(ticker.FixedFormatter(ticklabels))\n",
    "plt.gcf().autofmt_xdate()\n",
    "\n",
    "ax.axhline(ret.mean(), c='r')\n",
    "\n",
    "plt.xlabel('Month')\n",
    "plt.ylabel('Return')\n",
    "plt.title('0050 Monthly return')\n",
    "\n",
    "plt.show()"
   ]
  },
  {
   "cell_type": "markdown",
   "id": "bound-circus",
   "metadata": {},
   "source": [
    "### ４. 績效／統計指標"
   ]
  },
  {
   "cell_type": "code",
   "execution_count": 13,
   "id": "monetary-functionality",
   "metadata": {},
   "outputs": [],
   "source": [
    "###年報酬\n",
    "cagr = (TW0050_monthly['累積報酬(月)'][-1]) ** (1/5) -1\n",
    "\n",
    "###標準差\n",
    "std = ret.std()*np.sqrt(12)\n",
    "\n",
    "###夏普比率\n",
    "sharpe_ratio = (cagr-0.01)/std\n",
    "\n",
    "###最大回撤\n",
    "roll_max = TW0050_monthly['累積價值(月)'].cummax()\n",
    "monthly_dd =TW0050_monthly['累積價值(月)']/roll_max - 1.0\n",
    "max_dd = monthly_dd.cummin()"
   ]
  },
  {
   "cell_type": "code",
   "execution_count": 14,
   "id": "dense-falls",
   "metadata": {},
   "outputs": [
    {
     "data": {
      "text/html": [
       "<div>\n",
       "<style scoped>\n",
       "    .dataframe tbody tr th:only-of-type {\n",
       "        vertical-align: middle;\n",
       "    }\n",
       "\n",
       "    .dataframe tbody tr th {\n",
       "        vertical-align: top;\n",
       "    }\n",
       "\n",
       "    .dataframe thead th {\n",
       "        text-align: right;\n",
       "    }\n",
       "</style>\n",
       "<table border=\"1\" class=\"dataframe\">\n",
       "  <thead>\n",
       "    <tr style=\"text-align: right;\">\n",
       "      <th></th>\n",
       "      <th>0050</th>\n",
       "    </tr>\n",
       "  </thead>\n",
       "  <tbody>\n",
       "    <tr>\n",
       "      <th>年化報酬率(%)</th>\n",
       "      <td>10.98</td>\n",
       "    </tr>\n",
       "    <tr>\n",
       "      <th>年化標準差(%)</th>\n",
       "      <td>15.54</td>\n",
       "    </tr>\n",
       "    <tr>\n",
       "      <th>夏普比率</th>\n",
       "      <td>0.64</td>\n",
       "    </tr>\n",
       "    <tr>\n",
       "      <th>期間最大回撤(%)</th>\n",
       "      <td>-15.68</td>\n",
       "    </tr>\n",
       "  </tbody>\n",
       "</table>\n",
       "</div>"
      ],
      "text/plain": [
       "            0050\n",
       "年化報酬率(%)   10.98\n",
       "年化標準差(%)   15.54\n",
       "夏普比率        0.64\n",
       "期間最大回撤(%) -15.68"
      ]
     },
     "execution_count": 14,
     "metadata": {},
     "output_type": "execute_result"
    }
   ],
   "source": [
    "pd.DataFrame(columns=['0050'], index=['年化報酬率(%)', '年化標準差(%)', '夏普比率', '期間最大回撤(%)'], \n",
    "             data = np.round(np.array([100*cagr, 100*std, sharpe_ratio, 100*max_dd[-1]]),2))"
   ]
  },
  {
   "cell_type": "markdown",
   "id": "corresponding-guatemala",
   "metadata": {},
   "source": [
    "### 附錄：將上述個別的程式碼做成Function"
   ]
  },
  {
   "cell_type": "code",
   "execution_count": 15,
   "id": "hidden-lodging",
   "metadata": {},
   "outputs": [],
   "source": [
    "def Dollar_Cost_Averaging(data):    \n",
    "\n",
    "    data['每月購買股數']= np.floor(10000 / data['close_adj'])\n",
    "    data['累積股數'] = data['每月購買股數'].cumsum()\n",
    "    data['累積價值(月)'] = round(data['累積股數'] * data['close_adj'],2)\n",
    "    data['原始價值(月)'] = [10000*i for i in range(len(data.index))]\n",
    "    data['原始價值(月)'] = data['原始價值(月)'].shift(-1)\n",
    "    data['原始價值(月)'][-1] = data['原始價值(月)'][-2]\n",
    "    data['累積報酬(月)'] = round((data['累積價值(月)']-data['原始價值(月)'])/data['原始價值(月)'], 6) + 1\n",
    "    \n",
    "    return data"
   ]
  },
  {
   "cell_type": "code",
   "execution_count": 16,
   "id": "accomplished-sierra",
   "metadata": {},
   "outputs": [],
   "source": [
    "def Performance(data, ticker):\n",
    "    \n",
    "    ret = np.log(data['累積報酬(月)']/data['累積報酬(月)'].shift(1))\n",
    "    \n",
    "    cagr = (data['累積報酬(月)'][-1]) ** (1/5) -1\n",
    "    std = ret.std()*np.sqrt(12)\n",
    "    sharpe_ratio = (cagr-0.01)/std\n",
    "\n",
    "    roll_max = data['累積價值(月)'].cummax()\n",
    "    monthly_dd = data['累積價值(月)']/roll_max - 1.0\n",
    "    max_dd = monthly_dd.cummin()\n",
    "    \n",
    "    df = pd.DataFrame(columns=[ticker], index=['年化報酬率(%)', '年化標準差(%)', '夏普比率', '期間最大回撤(%)'], \n",
    "            data = np.round(np.array([100*cagr, 100*std, sharpe_ratio, 100*max_dd[-1]]),2))\n",
    "    \n",
    "    return df"
   ]
  }
 ],
 "metadata": {
  "kernelspec": {
   "display_name": "Python 3",
   "language": "python",
   "name": "python3"
  },
  "language_info": {
   "codemirror_mode": {
    "name": "ipython",
    "version": 3
   },
   "file_extension": ".py",
   "mimetype": "text/x-python",
   "name": "python",
   "nbconvert_exporter": "python",
   "pygments_lexer": "ipython3",
   "version": "3.8.5"
  }
 },
 "nbformat": 4,
 "nbformat_minor": 5
}
