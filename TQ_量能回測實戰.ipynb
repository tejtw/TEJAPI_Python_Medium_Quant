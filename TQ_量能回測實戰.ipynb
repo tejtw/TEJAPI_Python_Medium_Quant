{
 "cells": [
  {
   "cell_type": "markdown",
   "id": "f554dd27",
   "metadata": {},
   "source": [
    "# 量能回測實戰\n",
    "\n",
    "## 交易邏輯\n",
    "\n",
    "* 成交量增長象徵該檔股票受到投資者青睞，未來預期會有價格大幅波動情形\n",
    "\n",
    "## 交易策略\n",
    "\n",
    "* 當日成交量為前四日簡單移動平均的 2.5 倍時，視為買入訊號，於隔日買入。\n",
    "* 當日成交量為前五日簡單移動平均的 0.75 倍時，視為賣出訊號，於隔日賣出。\n",
    "\n",
    "## 資料來源\n",
    "\n",
    "[官網文章:量能回測實戰]:https://www.tejwin.com/?s=%E9%87%8F%E8%83%BD%E5%9B%9E%E6%B8%AC%E5%AF%A6%E6%88%B0\n",
    "[官網文章:量能回測實戰]"
   ]
  },
  {
   "cell_type": "markdown",
   "id": "772d81df",
   "metadata": {},
   "source": [
    "## 導入資料與套件\n",
    "\n",
    "資料導入階段，我們使用 `os.environ` 設置環境變數，分別設定:\n",
    "\n",
    "1. TEJAPI_KEY: 為購買 Tquant Lab 隨附的 api key，用於驗證個人身分。\n",
    "2. mdate: 所欲抓取資料的時間範圍，格式為 \"西元年份月份日期 西元年份月份日期\"。\n",
    "3. ticker: 所欲抓取資料的股價代碼，其中的 _IR0001_ 為大盤指數代碼。\n",
    "\n",
    "於本次案例我們抓取台積電、創意、旺宏與台股大盤資料，時間區間設定為 2012-07-02 到 2022-07-02 之間。"
   ]
  },
  {
   "cell_type": "code",
   "execution_count": 1,
   "id": "758ce99b",
   "metadata": {},
   "outputs": [
    {
     "name": "stdout",
     "output_type": "stream",
     "text": [
      "Merging daily equity files:\n"
     ]
    },
    {
     "name": "stderr",
     "output_type": "stream",
     "text": [
      "[2023-07-26 02:01:00.179343] INFO: zipline.data.bundles.core: Ingesting tquant.\n"
     ]
    }
   ],
   "source": [
    "import pandas as pd \n",
    "import numpy as np \n",
    "import tejapi\n",
    "import os \n",
    "\n",
    "os.environ['TEJAPI_BASE'] = 'https://api.tej.com.tw'\n",
    "os.environ['TEJAPI_KEY'] = 'IB4733e8TFbM780cNl5ezOKY2kNaBG'\n",
    "os.environ['mdate'] = '20120702 20220702'\n",
    "os.environ['ticker'] = 'IR0001 2330 3443 2337'\n",
    "\n",
    "# 使用 ingest 將股價資料導入暫存，並且命名該股票組合 (bundle) 為 tquant\n",
    "!zipline ingest -b tquant "
   ]
  },
  {
   "cell_type": "markdown",
   "id": "0e258d7f",
   "metadata": {},
   "source": [
    "## 編輯交易策略\n",
    "\n",
    "### 導入所需套件"
   ]
  },
  {
   "cell_type": "code",
   "execution_count": 2,
   "id": "2bbfb2f9",
   "metadata": {},
   "outputs": [],
   "source": [
    "from zipline.api import set_slippage, set_commission, set_benchmark, attach_pipeline, order, order_target, symbol, pipeline_output\n",
    "from zipline.finance import commission, slippage\n",
    "from zipline.data import bundles\n",
    "from zipline import run_algorithm\n",
    "from zipline.pipeline import Pipeline\n",
    "from zipline.pipeline.filters import StaticAssets\n",
    "from zipline.pipeline.factors import SimpleMovingAverage\n",
    "from zipline.pipeline.data import EquityPricing"
   ]
  },
  {
   "cell_type": "markdown",
   "id": "4cf596bf",
   "metadata": {},
   "source": [
    "### 建立 Pipeline 函式\n",
    "\n",
    "`Pipeline()` 提供使用者同時處理不同標的相關的量化指標與價量資料的功能，於本次案例我們用以處理:\n",
    "\n",
    "* 各股成交量的四日簡單移動平均\n",
    "* 各股成交量的五日簡單移動平均\n",
    "* 各股的當日成交量\n",
    "\n",
    "此外搭配 `screen` 與 `StaticAssets` 讓我們在每日計算上述指標時，過濾掉大盤資料 (*IR0001*)。讓之後在計算每個股票的成交量的四日簡單移動平均、成交量的五日簡單移動平均與當日成交量時，能跳過計算大盤指數。"
   ]
  },
  {
   "cell_type": "code",
   "execution_count": 3,
   "id": "ba61d7b2",
   "metadata": {},
   "outputs": [],
   "source": [
    "bundle = bundles.load('tquant')\n",
    "ir0001_asset = bundle.asset_finder.lookup_symbol('IR0001',as_of_date = None)\n",
    "\n",
    "def make_pipeline():\n",
    "    sma_vol_win_4 = SimpleMovingAverage(inputs=[EquityPricing.volume], window_length=4)\n",
    "    sma_vol_win_5 = SimpleMovingAverage(inputs=[EquityPricing.volume], window_length=5)\n",
    "    curr_vol = EquityPricing.volume.latest\n",
    "    \n",
    "    return Pipeline(\n",
    "        columns = {\n",
    "            'sma_4':sma_vol_win_4,\n",
    "            'sma_5':sma_vol_win_5,\n",
    "            'curr_vol':curr_vol\n",
    "        },\n",
    "        screen = ~StaticAssets([ir0001_asset])\n",
    "    )"
   ]
  },
  {
   "cell_type": "markdown",
   "id": "0712de69",
   "metadata": {},
   "source": [
    "### 建立 initialize 函式\n",
    "\n",
    "`inintialize` 函式用於定義交易開始前的每日交易環境，與此例中我們設置:\n",
    "\n",
    "* 流動性滑價\n",
    "* 交易手續費\n",
    "* 大盤報酬作為基準\n",
    "* 將 Pipeline 導入交易流程中"
   ]
  },
  {
   "cell_type": "code",
   "execution_count": 4,
   "id": "0489b408",
   "metadata": {},
   "outputs": [],
   "source": [
    "def initialize(context):\n",
    "    set_slippage(slippage.VolumeShareSlippage())\n",
    "    set_commission(commission.PerShare(cost=0.00285))\n",
    "    set_benchmark(symbol('IR0001'))\n",
    "    attach_pipeline(make_pipeline(), 'mystrategy')"
   ]
  },
  {
   "cell_type": "markdown",
   "id": "e3fbdd68",
   "metadata": {},
   "source": [
    "### 建立 handle_date 函式\n",
    "\n",
    "`handle_data` 函式用於處理每天的交易策略或行動，其中:\n",
    "\n",
    "* condition1: 當日成交量大於四日簡單移動平均之 2.5 倍且現金部位大於 0 ，產生買入訊號。\n",
    "* condition2: 當日成交量小於五日簡單移動平均之 0.75 倍，產生賣出訊號。"
   ]
  },
  {
   "cell_type": "code",
   "execution_count": 5,
   "id": "2b243ea0",
   "metadata": {},
   "outputs": [],
   "source": [
    "def handle_data(context, data):\n",
    "    out_dir = pipeline_output('mystrategy')\n",
    "    for i in out_dir.index: # 遍歷過每檔股票\n",
    "        sma_vol_4 = out_dir.loc[i, 'sma_4']\n",
    "        sma_vol_5 = out_dir.loc[i, 'sma_5']\n",
    "        curr_vol = out_dir.loc[i, 'curr_vol']\n",
    "        \n",
    "        condition1 = (curr_vol > 2.5 * sma_vol_4) and (context.portfolio.cash > 0)\n",
    "        condition2 = (curr_vol < 0.75 * sma_vol_5)\n",
    "        \n",
    "        if condition1:\n",
    "            order(i, 10)\n",
    "        elif condition2:\n",
    "            order_target(i, 0)\n",
    "        else:\n",
    "            pass"
   ]
  },
  {
   "cell_type": "markdown",
   "id": "6cf98cea",
   "metadata": {},
   "source": [
    "### 建立 analyze 函式\n",
    "\n",
    "多半用於繪製績效圖表，於本次案例將使用 pyfolio 繪製，故直接略過。"
   ]
  },
  {
   "cell_type": "code",
   "execution_count": 6,
   "id": "2e84a710",
   "metadata": {},
   "outputs": [],
   "source": [
    "def analyze(context, perf):\n",
    "    pass"
   ]
  },
  {
   "cell_type": "markdown",
   "id": "e985b5a2",
   "metadata": {},
   "source": [
    "## 執行交易策略\n",
    "\n",
    "使用 `run_algorithm` 執行上述所編撰的交易策略，設置交易期間為 2012-07-02 到 2022-07-02，所使用資料集為 *tquant*，初始資金為 10,000 元。其中輸出的 __results__ 就是每日績效與交易的明細表。"
   ]
  },
  {
   "cell_type": "code",
   "execution_count": 7,
   "id": "e4a07dfe",
   "metadata": {
    "scrolled": false
   },
   "outputs": [
    {
     "name": "stderr",
     "output_type": "stream",
     "text": [
      "C:\\Users\\Admin\\anaconda3\\envs\\zipline-tej\\lib\\site-packages\\empyrical\\stats.py:706: RuntimeWarning: invalid value encountered in true_divide\n",
      "  np.divide(\n",
      "C:\\Users\\Admin\\anaconda3\\envs\\zipline-tej\\lib\\site-packages\\empyrical\\stats.py:797: RuntimeWarning: invalid value encountered in true_divide\n",
      "  np.divide(average_annual_return, annualized_downside_risk, out=out)\n"
     ]
    },
    {
     "data": {
      "text/html": [
       "<div>\n",
       "<style scoped>\n",
       "    .dataframe tbody tr th:only-of-type {\n",
       "        vertical-align: middle;\n",
       "    }\n",
       "\n",
       "    .dataframe tbody tr th {\n",
       "        vertical-align: top;\n",
       "    }\n",
       "\n",
       "    .dataframe thead th {\n",
       "        text-align: right;\n",
       "    }\n",
       "</style>\n",
       "<table border=\"1\" class=\"dataframe\">\n",
       "  <thead>\n",
       "    <tr style=\"text-align: right;\">\n",
       "      <th></th>\n",
       "      <th>period_open</th>\n",
       "      <th>period_close</th>\n",
       "      <th>benchmark_return</th>\n",
       "      <th>long_exposure</th>\n",
       "      <th>treasury_return</th>\n",
       "      <th>pnl</th>\n",
       "      <th>capital_used</th>\n",
       "      <th>short_exposure</th>\n",
       "      <th>orders</th>\n",
       "      <th>returns</th>\n",
       "      <th>...</th>\n",
       "      <th>treasury_period_return</th>\n",
       "      <th>algorithm_period_return</th>\n",
       "      <th>alpha</th>\n",
       "      <th>beta</th>\n",
       "      <th>sharpe</th>\n",
       "      <th>sortino</th>\n",
       "      <th>max_drawdown</th>\n",
       "      <th>max_leverage</th>\n",
       "      <th>trading_days</th>\n",
       "      <th>period_label</th>\n",
       "    </tr>\n",
       "  </thead>\n",
       "  <tbody>\n",
       "    <tr>\n",
       "      <th>2012-07-02 13:30:00+08:00</th>\n",
       "      <td>2012-07-02 09:01:00+08:00</td>\n",
       "      <td>2012-07-02 13:30:00+08:00</td>\n",
       "      <td>NaN</td>\n",
       "      <td>0.0</td>\n",
       "      <td>0.0</td>\n",
       "      <td>0.0000</td>\n",
       "      <td>0.0000</td>\n",
       "      <td>0.0</td>\n",
       "      <td>[]</td>\n",
       "      <td>0.000000</td>\n",
       "      <td>...</td>\n",
       "      <td>0.0</td>\n",
       "      <td>0.000000</td>\n",
       "      <td>NaN</td>\n",
       "      <td>NaN</td>\n",
       "      <td>NaN</td>\n",
       "      <td>NaN</td>\n",
       "      <td>0.000000</td>\n",
       "      <td>0.000000</td>\n",
       "      <td>1</td>\n",
       "      <td>2012-07</td>\n",
       "    </tr>\n",
       "    <tr>\n",
       "      <th>2012-07-03 13:30:00+08:00</th>\n",
       "      <td>2012-07-03 09:01:00+08:00</td>\n",
       "      <td>2012-07-03 13:30:00+08:00</td>\n",
       "      <td>0.010450</td>\n",
       "      <td>0.0</td>\n",
       "      <td>0.0</td>\n",
       "      <td>0.0000</td>\n",
       "      <td>0.0000</td>\n",
       "      <td>0.0</td>\n",
       "      <td>[{'id': '9d17e2fd712644c686d322e24c40fc18', 'd...</td>\n",
       "      <td>0.000000</td>\n",
       "      <td>...</td>\n",
       "      <td>0.0</td>\n",
       "      <td>0.000000</td>\n",
       "      <td>NaN</td>\n",
       "      <td>NaN</td>\n",
       "      <td>NaN</td>\n",
       "      <td>NaN</td>\n",
       "      <td>0.000000</td>\n",
       "      <td>0.000000</td>\n",
       "      <td>2</td>\n",
       "      <td>2012-07</td>\n",
       "    </tr>\n",
       "    <tr>\n",
       "      <th>2012-07-04 13:30:00+08:00</th>\n",
       "      <td>2012-07-04 09:01:00+08:00</td>\n",
       "      <td>2012-07-04 13:30:00+08:00</td>\n",
       "      <td>0.006789</td>\n",
       "      <td>1947.4</td>\n",
       "      <td>0.0</td>\n",
       "      <td>-0.0855</td>\n",
       "      <td>-1947.4855</td>\n",
       "      <td>0.0</td>\n",
       "      <td>[{'id': '9d17e2fd712644c686d322e24c40fc18', 'd...</td>\n",
       "      <td>-0.000009</td>\n",
       "      <td>...</td>\n",
       "      <td>0.0</td>\n",
       "      <td>-0.000009</td>\n",
       "      <td>-0.006131</td>\n",
       "      <td>0.002335</td>\n",
       "      <td>-9.165151</td>\n",
       "      <td>-9.165151</td>\n",
       "      <td>-0.000009</td>\n",
       "      <td>0.194742</td>\n",
       "      <td>3</td>\n",
       "      <td>2012-07</td>\n",
       "    </tr>\n",
       "    <tr>\n",
       "      <th>2012-07-05 13:30:00+08:00</th>\n",
       "      <td>2012-07-05 09:01:00+08:00</td>\n",
       "      <td>2012-07-05 13:30:00+08:00</td>\n",
       "      <td>-0.002474</td>\n",
       "      <td>1955.1</td>\n",
       "      <td>0.0</td>\n",
       "      <td>7.7000</td>\n",
       "      <td>0.0000</td>\n",
       "      <td>0.0</td>\n",
       "      <td>[]</td>\n",
       "      <td>0.000770</td>\n",
       "      <td>...</td>\n",
       "      <td>0.0</td>\n",
       "      <td>0.000761</td>\n",
       "      <td>0.154572</td>\n",
       "      <td>-0.064349</td>\n",
       "      <td>7.819750</td>\n",
       "      <td>706.885842</td>\n",
       "      <td>-0.000009</td>\n",
       "      <td>0.195361</td>\n",
       "      <td>4</td>\n",
       "      <td>2012-07</td>\n",
       "    </tr>\n",
       "    <tr>\n",
       "      <th>2012-07-06 13:30:00+08:00</th>\n",
       "      <td>2012-07-06 09:01:00+08:00</td>\n",
       "      <td>2012-07-06 13:30:00+08:00</td>\n",
       "      <td>-0.002480</td>\n",
       "      <td>1948.0</td>\n",
       "      <td>0.0</td>\n",
       "      <td>-7.1000</td>\n",
       "      <td>0.0000</td>\n",
       "      <td>0.0</td>\n",
       "      <td>[{'id': '43ec939b255d4efaaab36163955a90f1', 'd...</td>\n",
       "      <td>-0.000709</td>\n",
       "      <td>...</td>\n",
       "      <td>0.0</td>\n",
       "      <td>0.000051</td>\n",
       "      <td>0.005455</td>\n",
       "      <td>-0.002797</td>\n",
       "      <td>0.315410</td>\n",
       "      <td>0.520275</td>\n",
       "      <td>-0.000709</td>\n",
       "      <td>0.195361</td>\n",
       "      <td>5</td>\n",
       "      <td>2012-07</td>\n",
       "    </tr>\n",
       "    <tr>\n",
       "      <th>...</th>\n",
       "      <td>...</td>\n",
       "      <td>...</td>\n",
       "      <td>...</td>\n",
       "      <td>...</td>\n",
       "      <td>...</td>\n",
       "      <td>...</td>\n",
       "      <td>...</td>\n",
       "      <td>...</td>\n",
       "      <td>...</td>\n",
       "      <td>...</td>\n",
       "      <td>...</td>\n",
       "      <td>...</td>\n",
       "      <td>...</td>\n",
       "      <td>...</td>\n",
       "      <td>...</td>\n",
       "      <td>...</td>\n",
       "      <td>...</td>\n",
       "      <td>...</td>\n",
       "      <td>...</td>\n",
       "      <td>...</td>\n",
       "      <td>...</td>\n",
       "    </tr>\n",
       "    <tr>\n",
       "      <th>2022-06-27 13:30:00+08:00</th>\n",
       "      <td>2022-06-27 09:01:00+08:00</td>\n",
       "      <td>2022-06-27 13:30:00+08:00</td>\n",
       "      <td>0.017703</td>\n",
       "      <td>0.0</td>\n",
       "      <td>0.0</td>\n",
       "      <td>0.0000</td>\n",
       "      <td>0.0000</td>\n",
       "      <td>0.0</td>\n",
       "      <td>[]</td>\n",
       "      <td>0.000000</td>\n",
       "      <td>...</td>\n",
       "      <td>0.0</td>\n",
       "      <td>0.041733</td>\n",
       "      <td>0.003933</td>\n",
       "      <td>0.003040</td>\n",
       "      <td>0.303824</td>\n",
       "      <td>0.701364</td>\n",
       "      <td>-0.025339</td>\n",
       "      <td>0.420975</td>\n",
       "      <td>2449</td>\n",
       "      <td>2022-06</td>\n",
       "    </tr>\n",
       "    <tr>\n",
       "      <th>2022-06-28 13:30:00+08:00</th>\n",
       "      <td>2022-06-28 09:01:00+08:00</td>\n",
       "      <td>2022-06-28 13:30:00+08:00</td>\n",
       "      <td>-0.005615</td>\n",
       "      <td>0.0</td>\n",
       "      <td>0.0</td>\n",
       "      <td>0.0000</td>\n",
       "      <td>0.0000</td>\n",
       "      <td>0.0</td>\n",
       "      <td>[]</td>\n",
       "      <td>0.000000</td>\n",
       "      <td>...</td>\n",
       "      <td>0.0</td>\n",
       "      <td>0.041733</td>\n",
       "      <td>0.003933</td>\n",
       "      <td>0.003040</td>\n",
       "      <td>0.303762</td>\n",
       "      <td>0.701220</td>\n",
       "      <td>-0.025339</td>\n",
       "      <td>0.420975</td>\n",
       "      <td>2450</td>\n",
       "      <td>2022-06</td>\n",
       "    </tr>\n",
       "    <tr>\n",
       "      <th>2022-06-29 13:30:00+08:00</th>\n",
       "      <td>2022-06-29 09:01:00+08:00</td>\n",
       "      <td>2022-06-29 13:30:00+08:00</td>\n",
       "      <td>-0.009731</td>\n",
       "      <td>0.0</td>\n",
       "      <td>0.0</td>\n",
       "      <td>0.0000</td>\n",
       "      <td>0.0000</td>\n",
       "      <td>0.0</td>\n",
       "      <td>[]</td>\n",
       "      <td>0.000000</td>\n",
       "      <td>...</td>\n",
       "      <td>0.0</td>\n",
       "      <td>0.041733</td>\n",
       "      <td>0.003935</td>\n",
       "      <td>0.003040</td>\n",
       "      <td>0.303700</td>\n",
       "      <td>0.701077</td>\n",
       "      <td>-0.025339</td>\n",
       "      <td>0.420975</td>\n",
       "      <td>2451</td>\n",
       "      <td>2022-06</td>\n",
       "    </tr>\n",
       "    <tr>\n",
       "      <th>2022-06-30 13:30:00+08:00</th>\n",
       "      <td>2022-06-30 09:01:00+08:00</td>\n",
       "      <td>2022-06-30 13:30:00+08:00</td>\n",
       "      <td>-0.025612</td>\n",
       "      <td>0.0</td>\n",
       "      <td>0.0</td>\n",
       "      <td>0.0000</td>\n",
       "      <td>0.0000</td>\n",
       "      <td>0.0</td>\n",
       "      <td>[]</td>\n",
       "      <td>0.000000</td>\n",
       "      <td>...</td>\n",
       "      <td>0.0</td>\n",
       "      <td>0.041733</td>\n",
       "      <td>0.003942</td>\n",
       "      <td>0.003032</td>\n",
       "      <td>0.303638</td>\n",
       "      <td>0.700934</td>\n",
       "      <td>-0.025339</td>\n",
       "      <td>0.420975</td>\n",
       "      <td>2452</td>\n",
       "      <td>2022-06</td>\n",
       "    </tr>\n",
       "    <tr>\n",
       "      <th>2022-07-01 13:30:00+08:00</th>\n",
       "      <td>2022-07-01 09:01:00+08:00</td>\n",
       "      <td>2022-07-01 13:30:00+08:00</td>\n",
       "      <td>-0.032422</td>\n",
       "      <td>0.0</td>\n",
       "      <td>0.0</td>\n",
       "      <td>0.0000</td>\n",
       "      <td>0.0000</td>\n",
       "      <td>0.0</td>\n",
       "      <td>[]</td>\n",
       "      <td>0.000000</td>\n",
       "      <td>...</td>\n",
       "      <td>0.0</td>\n",
       "      <td>0.041733</td>\n",
       "      <td>0.003952</td>\n",
       "      <td>0.003018</td>\n",
       "      <td>0.303576</td>\n",
       "      <td>0.700792</td>\n",
       "      <td>-0.025339</td>\n",
       "      <td>0.420975</td>\n",
       "      <td>2453</td>\n",
       "      <td>2022-07</td>\n",
       "    </tr>\n",
       "  </tbody>\n",
       "</table>\n",
       "<p>2453 rows × 39 columns</p>\n",
       "</div>"
      ],
      "text/plain": [
       "                                        period_open              period_close  \\\n",
       "2012-07-02 13:30:00+08:00 2012-07-02 09:01:00+08:00 2012-07-02 13:30:00+08:00   \n",
       "2012-07-03 13:30:00+08:00 2012-07-03 09:01:00+08:00 2012-07-03 13:30:00+08:00   \n",
       "2012-07-04 13:30:00+08:00 2012-07-04 09:01:00+08:00 2012-07-04 13:30:00+08:00   \n",
       "2012-07-05 13:30:00+08:00 2012-07-05 09:01:00+08:00 2012-07-05 13:30:00+08:00   \n",
       "2012-07-06 13:30:00+08:00 2012-07-06 09:01:00+08:00 2012-07-06 13:30:00+08:00   \n",
       "...                                             ...                       ...   \n",
       "2022-06-27 13:30:00+08:00 2022-06-27 09:01:00+08:00 2022-06-27 13:30:00+08:00   \n",
       "2022-06-28 13:30:00+08:00 2022-06-28 09:01:00+08:00 2022-06-28 13:30:00+08:00   \n",
       "2022-06-29 13:30:00+08:00 2022-06-29 09:01:00+08:00 2022-06-29 13:30:00+08:00   \n",
       "2022-06-30 13:30:00+08:00 2022-06-30 09:01:00+08:00 2022-06-30 13:30:00+08:00   \n",
       "2022-07-01 13:30:00+08:00 2022-07-01 09:01:00+08:00 2022-07-01 13:30:00+08:00   \n",
       "\n",
       "                           benchmark_return  long_exposure  treasury_return  \\\n",
       "2012-07-02 13:30:00+08:00               NaN            0.0              0.0   \n",
       "2012-07-03 13:30:00+08:00          0.010450            0.0              0.0   \n",
       "2012-07-04 13:30:00+08:00          0.006789         1947.4              0.0   \n",
       "2012-07-05 13:30:00+08:00         -0.002474         1955.1              0.0   \n",
       "2012-07-06 13:30:00+08:00         -0.002480         1948.0              0.0   \n",
       "...                                     ...            ...              ...   \n",
       "2022-06-27 13:30:00+08:00          0.017703            0.0              0.0   \n",
       "2022-06-28 13:30:00+08:00         -0.005615            0.0              0.0   \n",
       "2022-06-29 13:30:00+08:00         -0.009731            0.0              0.0   \n",
       "2022-06-30 13:30:00+08:00         -0.025612            0.0              0.0   \n",
       "2022-07-01 13:30:00+08:00         -0.032422            0.0              0.0   \n",
       "\n",
       "                              pnl  capital_used  short_exposure  \\\n",
       "2012-07-02 13:30:00+08:00  0.0000        0.0000             0.0   \n",
       "2012-07-03 13:30:00+08:00  0.0000        0.0000             0.0   \n",
       "2012-07-04 13:30:00+08:00 -0.0855    -1947.4855             0.0   \n",
       "2012-07-05 13:30:00+08:00  7.7000        0.0000             0.0   \n",
       "2012-07-06 13:30:00+08:00 -7.1000        0.0000             0.0   \n",
       "...                           ...           ...             ...   \n",
       "2022-06-27 13:30:00+08:00  0.0000        0.0000             0.0   \n",
       "2022-06-28 13:30:00+08:00  0.0000        0.0000             0.0   \n",
       "2022-06-29 13:30:00+08:00  0.0000        0.0000             0.0   \n",
       "2022-06-30 13:30:00+08:00  0.0000        0.0000             0.0   \n",
       "2022-07-01 13:30:00+08:00  0.0000        0.0000             0.0   \n",
       "\n",
       "                                                                      orders  \\\n",
       "2012-07-02 13:30:00+08:00                                                 []   \n",
       "2012-07-03 13:30:00+08:00  [{'id': '9d17e2fd712644c686d322e24c40fc18', 'd...   \n",
       "2012-07-04 13:30:00+08:00  [{'id': '9d17e2fd712644c686d322e24c40fc18', 'd...   \n",
       "2012-07-05 13:30:00+08:00                                                 []   \n",
       "2012-07-06 13:30:00+08:00  [{'id': '43ec939b255d4efaaab36163955a90f1', 'd...   \n",
       "...                                                                      ...   \n",
       "2022-06-27 13:30:00+08:00                                                 []   \n",
       "2022-06-28 13:30:00+08:00                                                 []   \n",
       "2022-06-29 13:30:00+08:00                                                 []   \n",
       "2022-06-30 13:30:00+08:00                                                 []   \n",
       "2022-07-01 13:30:00+08:00                                                 []   \n",
       "\n",
       "                            returns  ... treasury_period_return  \\\n",
       "2012-07-02 13:30:00+08:00  0.000000  ...                    0.0   \n",
       "2012-07-03 13:30:00+08:00  0.000000  ...                    0.0   \n",
       "2012-07-04 13:30:00+08:00 -0.000009  ...                    0.0   \n",
       "2012-07-05 13:30:00+08:00  0.000770  ...                    0.0   \n",
       "2012-07-06 13:30:00+08:00 -0.000709  ...                    0.0   \n",
       "...                             ...  ...                    ...   \n",
       "2022-06-27 13:30:00+08:00  0.000000  ...                    0.0   \n",
       "2022-06-28 13:30:00+08:00  0.000000  ...                    0.0   \n",
       "2022-06-29 13:30:00+08:00  0.000000  ...                    0.0   \n",
       "2022-06-30 13:30:00+08:00  0.000000  ...                    0.0   \n",
       "2022-07-01 13:30:00+08:00  0.000000  ...                    0.0   \n",
       "\n",
       "                          algorithm_period_return     alpha      beta  \\\n",
       "2012-07-02 13:30:00+08:00                0.000000       NaN       NaN   \n",
       "2012-07-03 13:30:00+08:00                0.000000       NaN       NaN   \n",
       "2012-07-04 13:30:00+08:00               -0.000009 -0.006131  0.002335   \n",
       "2012-07-05 13:30:00+08:00                0.000761  0.154572 -0.064349   \n",
       "2012-07-06 13:30:00+08:00                0.000051  0.005455 -0.002797   \n",
       "...                                           ...       ...       ...   \n",
       "2022-06-27 13:30:00+08:00                0.041733  0.003933  0.003040   \n",
       "2022-06-28 13:30:00+08:00                0.041733  0.003933  0.003040   \n",
       "2022-06-29 13:30:00+08:00                0.041733  0.003935  0.003040   \n",
       "2022-06-30 13:30:00+08:00                0.041733  0.003942  0.003032   \n",
       "2022-07-01 13:30:00+08:00                0.041733  0.003952  0.003018   \n",
       "\n",
       "                             sharpe     sortino  max_drawdown  max_leverage  \\\n",
       "2012-07-02 13:30:00+08:00       NaN         NaN      0.000000      0.000000   \n",
       "2012-07-03 13:30:00+08:00       NaN         NaN      0.000000      0.000000   \n",
       "2012-07-04 13:30:00+08:00 -9.165151   -9.165151     -0.000009      0.194742   \n",
       "2012-07-05 13:30:00+08:00  7.819750  706.885842     -0.000009      0.195361   \n",
       "2012-07-06 13:30:00+08:00  0.315410    0.520275     -0.000709      0.195361   \n",
       "...                             ...         ...           ...           ...   \n",
       "2022-06-27 13:30:00+08:00  0.303824    0.701364     -0.025339      0.420975   \n",
       "2022-06-28 13:30:00+08:00  0.303762    0.701220     -0.025339      0.420975   \n",
       "2022-06-29 13:30:00+08:00  0.303700    0.701077     -0.025339      0.420975   \n",
       "2022-06-30 13:30:00+08:00  0.303638    0.700934     -0.025339      0.420975   \n",
       "2022-07-01 13:30:00+08:00  0.303576    0.700792     -0.025339      0.420975   \n",
       "\n",
       "                           trading_days  period_label  \n",
       "2012-07-02 13:30:00+08:00             1       2012-07  \n",
       "2012-07-03 13:30:00+08:00             2       2012-07  \n",
       "2012-07-04 13:30:00+08:00             3       2012-07  \n",
       "2012-07-05 13:30:00+08:00             4       2012-07  \n",
       "2012-07-06 13:30:00+08:00             5       2012-07  \n",
       "...                                 ...           ...  \n",
       "2022-06-27 13:30:00+08:00          2449       2022-06  \n",
       "2022-06-28 13:30:00+08:00          2450       2022-06  \n",
       "2022-06-29 13:30:00+08:00          2451       2022-06  \n",
       "2022-06-30 13:30:00+08:00          2452       2022-06  \n",
       "2022-07-01 13:30:00+08:00          2453       2022-07  \n",
       "\n",
       "[2453 rows x 39 columns]"
      ]
     },
     "execution_count": 7,
     "metadata": {},
     "output_type": "execute_result"
    }
   ],
   "source": [
    "results = run_algorithm(\n",
    "    start = pd.Timestamp('2012-07-02', tz='UTC'),\n",
    "    end = pd.Timestamp('2022-07-02', tz ='UTC'),\n",
    "    initialize=initialize,\n",
    "    bundle='tquant',\n",
    "    analyze=analyze,\n",
    "    capital_base=1e4,\n",
    "    handle_data = handle_data\n",
    ")\n",
    "\n",
    "results"
   ]
  },
  {
   "cell_type": "markdown",
   "id": "39f635f5",
   "metadata": {},
   "source": [
    "## 視覺化與績效評估\n",
    "\n",
    "### 生成 pyfolio 所需資料表\n",
    "\n",
    "之後我們使用 pyfolio 進行績效視覺化與評估，首先使用 `extract_rets_pos_txn_from_zipline` 先將上述的 __results__ 資料表細分成以下部分:\n",
    "\n",
    "* return: 投組每日報酬\n",
    "* positions: 持有部位資料表\n",
    "* transactions: 交易明細資料表"
   ]
  },
  {
   "cell_type": "code",
   "execution_count": 8,
   "id": "0daca63f",
   "metadata": {},
   "outputs": [],
   "source": [
    "from pyfolio.utils import extract_rets_pos_txn_from_zipline\n",
    "returns, positions, transactions = extract_rets_pos_txn_from_zipline(results)"
   ]
  },
  {
   "cell_type": "code",
   "execution_count": 9,
   "id": "1dd1b0d4",
   "metadata": {},
   "outputs": [
    {
     "data": {
      "text/plain": [
       "2012-07-02 00:00:00+08:00    0.000000\n",
       "2012-07-03 00:00:00+08:00    0.000000\n",
       "2012-07-04 00:00:00+08:00   -0.000009\n",
       "2012-07-05 00:00:00+08:00    0.000770\n",
       "2012-07-06 00:00:00+08:00   -0.000709\n",
       "Name: returns, dtype: float64"
      ]
     },
     "execution_count": 9,
     "metadata": {},
     "output_type": "execute_result"
    }
   ],
   "source": [
    "returns.head()"
   ]
  },
  {
   "cell_type": "code",
   "execution_count": 10,
   "id": "463fa8f3",
   "metadata": {},
   "outputs": [
    {
     "data": {
      "text/html": [
       "<div>\n",
       "<style scoped>\n",
       "    .dataframe tbody tr th:only-of-type {\n",
       "        vertical-align: middle;\n",
       "    }\n",
       "\n",
       "    .dataframe tbody tr th {\n",
       "        vertical-align: top;\n",
       "    }\n",
       "\n",
       "    .dataframe thead th {\n",
       "        text-align: right;\n",
       "    }\n",
       "</style>\n",
       "<table border=\"1\" class=\"dataframe\">\n",
       "  <thead>\n",
       "    <tr style=\"text-align: right;\">\n",
       "      <th>sid</th>\n",
       "      <th>Equity(0 [2330])</th>\n",
       "      <th>Equity(1 [2337])</th>\n",
       "      <th>Equity(2 [3443])</th>\n",
       "      <th>cash</th>\n",
       "    </tr>\n",
       "    <tr>\n",
       "      <th>index</th>\n",
       "      <th></th>\n",
       "      <th></th>\n",
       "      <th></th>\n",
       "      <th></th>\n",
       "    </tr>\n",
       "  </thead>\n",
       "  <tbody>\n",
       "    <tr>\n",
       "      <th>2012-07-04 00:00:00+08:00</th>\n",
       "      <td>812.0</td>\n",
       "      <td>95.4</td>\n",
       "      <td>1040.0</td>\n",
       "      <td>8052.5145</td>\n",
       "    </tr>\n",
       "    <tr>\n",
       "      <th>2012-07-05 00:00:00+08:00</th>\n",
       "      <td>810.0</td>\n",
       "      <td>95.1</td>\n",
       "      <td>1050.0</td>\n",
       "      <td>8052.5145</td>\n",
       "    </tr>\n",
       "    <tr>\n",
       "      <th>2012-07-06 00:00:00+08:00</th>\n",
       "      <td>809.0</td>\n",
       "      <td>94.0</td>\n",
       "      <td>1045.0</td>\n",
       "      <td>8052.5145</td>\n",
       "    </tr>\n",
       "    <tr>\n",
       "      <th>2012-07-09 00:00:00+08:00</th>\n",
       "      <td>0.0</td>\n",
       "      <td>0.0</td>\n",
       "      <td>1015.0</td>\n",
       "      <td>8945.3575</td>\n",
       "    </tr>\n",
       "    <tr>\n",
       "      <th>2012-07-10 00:00:00+08:00</th>\n",
       "      <td>0.0</td>\n",
       "      <td>0.0</td>\n",
       "      <td>980.0</td>\n",
       "      <td>8945.3575</td>\n",
       "    </tr>\n",
       "  </tbody>\n",
       "</table>\n",
       "</div>"
      ],
      "text/plain": [
       "sid                        Equity(0 [2330])  Equity(1 [2337])  \\\n",
       "index                                                           \n",
       "2012-07-04 00:00:00+08:00             812.0              95.4   \n",
       "2012-07-05 00:00:00+08:00             810.0              95.1   \n",
       "2012-07-06 00:00:00+08:00             809.0              94.0   \n",
       "2012-07-09 00:00:00+08:00               0.0               0.0   \n",
       "2012-07-10 00:00:00+08:00               0.0               0.0   \n",
       "\n",
       "sid                        Equity(2 [3443])       cash  \n",
       "index                                                   \n",
       "2012-07-04 00:00:00+08:00            1040.0  8052.5145  \n",
       "2012-07-05 00:00:00+08:00            1050.0  8052.5145  \n",
       "2012-07-06 00:00:00+08:00            1045.0  8052.5145  \n",
       "2012-07-09 00:00:00+08:00            1015.0  8945.3575  \n",
       "2012-07-10 00:00:00+08:00             980.0  8945.3575  "
      ]
     },
     "execution_count": 10,
     "metadata": {},
     "output_type": "execute_result"
    }
   ],
   "source": [
    "positions.head()"
   ]
  },
  {
   "cell_type": "code",
   "execution_count": 11,
   "id": "d9257edd",
   "metadata": {},
   "outputs": [
    {
     "data": {
      "text/html": [
       "<div>\n",
       "<style scoped>\n",
       "    .dataframe tbody tr th:only-of-type {\n",
       "        vertical-align: middle;\n",
       "    }\n",
       "\n",
       "    .dataframe tbody tr th {\n",
       "        vertical-align: top;\n",
       "    }\n",
       "\n",
       "    .dataframe thead th {\n",
       "        text-align: right;\n",
       "    }\n",
       "</style>\n",
       "<table border=\"1\" class=\"dataframe\">\n",
       "  <thead>\n",
       "    <tr style=\"text-align: right;\">\n",
       "      <th></th>\n",
       "      <th>sid</th>\n",
       "      <th>symbol</th>\n",
       "      <th>price</th>\n",
       "      <th>order_id</th>\n",
       "      <th>amount</th>\n",
       "      <th>commission</th>\n",
       "      <th>dt</th>\n",
       "      <th>txn_dollars</th>\n",
       "    </tr>\n",
       "  </thead>\n",
       "  <tbody>\n",
       "    <tr>\n",
       "      <th>2012-07-04 05:30:00+00:00</th>\n",
       "      <td>Equity(0 [2330])</td>\n",
       "      <td>Equity(0 [2330])</td>\n",
       "      <td>81.20</td>\n",
       "      <td>9d17e2fd712644c686d322e24c40fc18</td>\n",
       "      <td>10</td>\n",
       "      <td>None</td>\n",
       "      <td>2012-07-04 13:30:00+08:00</td>\n",
       "      <td>-812.0</td>\n",
       "    </tr>\n",
       "    <tr>\n",
       "      <th>2012-07-04 05:30:00+00:00</th>\n",
       "      <td>Equity(1 [2337])</td>\n",
       "      <td>Equity(1 [2337])</td>\n",
       "      <td>9.54</td>\n",
       "      <td>fcb751a7e39845db94df1d06b7ecab26</td>\n",
       "      <td>10</td>\n",
       "      <td>None</td>\n",
       "      <td>2012-07-04 13:30:00+08:00</td>\n",
       "      <td>-95.4</td>\n",
       "    </tr>\n",
       "    <tr>\n",
       "      <th>2012-07-04 05:30:00+00:00</th>\n",
       "      <td>Equity(2 [3443])</td>\n",
       "      <td>Equity(2 [3443])</td>\n",
       "      <td>104.00</td>\n",
       "      <td>76a9901f4c994acc9c295e33c85ddf92</td>\n",
       "      <td>10</td>\n",
       "      <td>None</td>\n",
       "      <td>2012-07-04 13:30:00+08:00</td>\n",
       "      <td>-1040.0</td>\n",
       "    </tr>\n",
       "    <tr>\n",
       "      <th>2012-07-09 05:30:00+00:00</th>\n",
       "      <td>Equity(0 [2330])</td>\n",
       "      <td>Equity(0 [2330])</td>\n",
       "      <td>80.00</td>\n",
       "      <td>43ec939b255d4efaaab36163955a90f1</td>\n",
       "      <td>-10</td>\n",
       "      <td>None</td>\n",
       "      <td>2012-07-09 13:30:00+08:00</td>\n",
       "      <td>800.0</td>\n",
       "    </tr>\n",
       "    <tr>\n",
       "      <th>2012-07-09 05:30:00+00:00</th>\n",
       "      <td>Equity(1 [2337])</td>\n",
       "      <td>Equity(1 [2337])</td>\n",
       "      <td>9.29</td>\n",
       "      <td>18b86f4b87c74756a1f760cab4fe0d5b</td>\n",
       "      <td>-10</td>\n",
       "      <td>None</td>\n",
       "      <td>2012-07-09 13:30:00+08:00</td>\n",
       "      <td>92.9</td>\n",
       "    </tr>\n",
       "  </tbody>\n",
       "</table>\n",
       "</div>"
      ],
      "text/plain": [
       "                                        sid            symbol   price  \\\n",
       "2012-07-04 05:30:00+00:00  Equity(0 [2330])  Equity(0 [2330])   81.20   \n",
       "2012-07-04 05:30:00+00:00  Equity(1 [2337])  Equity(1 [2337])    9.54   \n",
       "2012-07-04 05:30:00+00:00  Equity(2 [3443])  Equity(2 [3443])  104.00   \n",
       "2012-07-09 05:30:00+00:00  Equity(0 [2330])  Equity(0 [2330])   80.00   \n",
       "2012-07-09 05:30:00+00:00  Equity(1 [2337])  Equity(1 [2337])    9.29   \n",
       "\n",
       "                                                   order_id  amount  \\\n",
       "2012-07-04 05:30:00+00:00  9d17e2fd712644c686d322e24c40fc18      10   \n",
       "2012-07-04 05:30:00+00:00  fcb751a7e39845db94df1d06b7ecab26      10   \n",
       "2012-07-04 05:30:00+00:00  76a9901f4c994acc9c295e33c85ddf92      10   \n",
       "2012-07-09 05:30:00+00:00  43ec939b255d4efaaab36163955a90f1     -10   \n",
       "2012-07-09 05:30:00+00:00  18b86f4b87c74756a1f760cab4fe0d5b     -10   \n",
       "\n",
       "                          commission                        dt  txn_dollars  \n",
       "2012-07-04 05:30:00+00:00       None 2012-07-04 13:30:00+08:00       -812.0  \n",
       "2012-07-04 05:30:00+00:00       None 2012-07-04 13:30:00+08:00        -95.4  \n",
       "2012-07-04 05:30:00+00:00       None 2012-07-04 13:30:00+08:00      -1040.0  \n",
       "2012-07-09 05:30:00+00:00       None 2012-07-09 13:30:00+08:00        800.0  \n",
       "2012-07-09 05:30:00+00:00       None 2012-07-09 13:30:00+08:00         92.9  "
      ]
     },
     "execution_count": 11,
     "metadata": {},
     "output_type": "execute_result"
    }
   ],
   "source": [
    "transactions.head()"
   ]
  },
  {
   "cell_type": "markdown",
   "id": "45cd5a82",
   "metadata": {},
   "source": [
    "### 製作投資績效表\n",
    "\n",
    "使用 `show_perf_stats()` 製作績效表，可以快速計算投資常用績效與風險指標。"
   ]
  },
  {
   "cell_type": "code",
   "execution_count": 12,
   "id": "75696d7b",
   "metadata": {},
   "outputs": [
    {
     "name": "stderr",
     "output_type": "stream",
     "text": [
      "C:\\Users\\Admin\\anaconda3\\envs\\zipline-tej\\lib\\site-packages\\empyrical\\stats.py:1529: RuntimeWarning: invalid value encountered in double_scalars\n",
      "  return np.abs(np.percentile(returns, 95)) / np.abs(\n"
     ]
    },
    {
     "data": {
      "text/html": [
       "<table border=\"1\" class=\"dataframe\">\n",
       "  <thead>\n",
       "    <tr style=\"text-align: right;\"><th>Start date</th><td colspan=2>2012-07-02</td></tr>\n",
       "    <tr style=\"text-align: right;\"><th>End date</th><td colspan=2>2022-07-01</td></tr>\n",
       "    <tr style=\"text-align: right;\"><th>Total months</th><td colspan=2>116</td></tr>\n",
       "    <tr style=\"text-align: right;\">\n",
       "      <th></th>\n",
       "      <th>Backtest</th>\n",
       "    </tr>\n",
       "  </thead>\n",
       "  <tbody>\n",
       "    <tr>\n",
       "      <th>Annual return</th>\n",
       "      <td>0.421%</td>\n",
       "    </tr>\n",
       "    <tr>\n",
       "      <th>Cumulative returns</th>\n",
       "      <td>4.173%</td>\n",
       "    </tr>\n",
       "    <tr>\n",
       "      <th>Annual volatility</th>\n",
       "      <td>1.416%</td>\n",
       "    </tr>\n",
       "    <tr>\n",
       "      <th>Sharpe ratio</th>\n",
       "      <td>0.30</td>\n",
       "    </tr>\n",
       "    <tr>\n",
       "      <th>Calmar ratio</th>\n",
       "      <td>0.17</td>\n",
       "    </tr>\n",
       "    <tr>\n",
       "      <th>Stability</th>\n",
       "      <td>0.59</td>\n",
       "    </tr>\n",
       "    <tr>\n",
       "      <th>Max drawdown</th>\n",
       "      <td>-2.534%</td>\n",
       "    </tr>\n",
       "    <tr>\n",
       "      <th>Omega ratio</th>\n",
       "      <td>1.46</td>\n",
       "    </tr>\n",
       "    <tr>\n",
       "      <th>Sortino ratio</th>\n",
       "      <td>0.70</td>\n",
       "    </tr>\n",
       "    <tr>\n",
       "      <th>Skew</th>\n",
       "      <td>15.90</td>\n",
       "    </tr>\n",
       "    <tr>\n",
       "      <th>Kurtosis</th>\n",
       "      <td>412.35</td>\n",
       "    </tr>\n",
       "    <tr>\n",
       "      <th>Tail ratio</th>\n",
       "      <td>NaN</td>\n",
       "    </tr>\n",
       "    <tr>\n",
       "      <th>Daily value at risk</th>\n",
       "      <td>-0.177%</td>\n",
       "    </tr>\n",
       "    <tr>\n",
       "      <th>Gross leverage</th>\n",
       "      <td>0.10</td>\n",
       "    </tr>\n",
       "    <tr>\n",
       "      <th>Daily turnover</th>\n",
       "      <td>0.0%</td>\n",
       "    </tr>\n",
       "    <tr>\n",
       "      <th>Alpha</th>\n",
       "      <td>0.00</td>\n",
       "    </tr>\n",
       "    <tr>\n",
       "      <th>Beta</th>\n",
       "      <td>0.00</td>\n",
       "    </tr>\n",
       "  </tbody>\n",
       "</table>"
      ],
      "text/plain": [
       "<IPython.core.display.HTML object>"
      ]
     },
     "metadata": {},
     "output_type": "display_data"
    }
   ],
   "source": [
    "import pyfolio as pf \n",
    "benchmark_rets = results['benchmark_return']\n",
    "pf.plotting.show_perf_stats(\n",
    "        returns,\n",
    "        benchmark_rets,\n",
    "        positions=positions,\n",
    "        transactions=transactions)"
   ]
  },
  {
   "cell_type": "markdown",
   "id": "a03ec120",
   "metadata": {},
   "source": [
    "### 製作且繪製投組成份表格\n",
    "\n",
    "使用 `show_and_plot_top_positions()` 與 `get_percent_alloc()` 製作且繪製各股於交易期間的成分佔比。"
   ]
  },
  {
   "cell_type": "code",
   "execution_count": 13,
   "id": "1a12aa30",
   "metadata": {},
   "outputs": [
    {
     "data": {
      "text/html": [
       "<table border=\"1\" class=\"dataframe\">\n",
       "  <thead>\n",
       "    <tr style=\"text-align: right;\">\n",
       "      <th>Top 10 long positions of all time</th>\n",
       "      <th>max</th>\n",
       "    </tr>\n",
       "    <tr>\n",
       "      <th>sid</th>\n",
       "      <th></th>\n",
       "    </tr>\n",
       "  </thead>\n",
       "  <tbody>\n",
       "    <tr>\n",
       "      <th>3443</th>\n",
       "      <td>42.10%</td>\n",
       "    </tr>\n",
       "    <tr>\n",
       "      <th>2337</th>\n",
       "      <td>13.59%</td>\n",
       "    </tr>\n",
       "    <tr>\n",
       "      <th>2330</th>\n",
       "      <td>8.12%</td>\n",
       "    </tr>\n",
       "  </tbody>\n",
       "</table>"
      ],
      "text/plain": [
       "<IPython.core.display.HTML object>"
      ]
     },
     "metadata": {},
     "output_type": "display_data"
    },
    {
     "data": {
      "text/html": [
       "<table border=\"1\" class=\"dataframe\">\n",
       "  <thead>\n",
       "    <tr style=\"text-align: right;\">\n",
       "      <th>Top 10 short positions of all time</th>\n",
       "      <th>max</th>\n",
       "    </tr>\n",
       "    <tr>\n",
       "      <th>sid</th>\n",
       "      <th></th>\n",
       "    </tr>\n",
       "  </thead>\n",
       "  <tbody>\n",
       "  </tbody>\n",
       "</table>"
      ],
      "text/plain": [
       "<IPython.core.display.HTML object>"
      ]
     },
     "metadata": {},
     "output_type": "display_data"
    },
    {
     "data": {
      "text/html": [
       "<table border=\"1\" class=\"dataframe\">\n",
       "  <thead>\n",
       "    <tr style=\"text-align: right;\">\n",
       "      <th>Top 10 positions of all time</th>\n",
       "      <th>max</th>\n",
       "    </tr>\n",
       "    <tr>\n",
       "      <th>sid</th>\n",
       "      <th></th>\n",
       "    </tr>\n",
       "  </thead>\n",
       "  <tbody>\n",
       "    <tr>\n",
       "      <th>3443</th>\n",
       "      <td>42.10%</td>\n",
       "    </tr>\n",
       "    <tr>\n",
       "      <th>2337</th>\n",
       "      <td>13.59%</td>\n",
       "    </tr>\n",
       "    <tr>\n",
       "      <th>2330</th>\n",
       "      <td>8.12%</td>\n",
       "    </tr>\n",
       "  </tbody>\n",
       "</table>"
      ],
      "text/plain": [
       "<IPython.core.display.HTML object>"
      ]
     },
     "metadata": {},
     "output_type": "display_data"
    },
    {
     "data": {
      "text/plain": [
       "<AxesSubplot:title={'center':'Portfolio allocation over time, only top 10 holdings'}, xlabel='index', ylabel='Exposure by holding'>"
      ]
     },
     "execution_count": 13,
     "metadata": {},
     "output_type": "execute_result"
    },
    {
     "data": {
      "image/png": "[encoded data removed]",
      "text/plain": [
       "<Figure size 432x288 with 1 Axes>"
      ]
     },
     "metadata": {
      "needs_background": "light"
     },
     "output_type": "display_data"
    }
   ],
   "source": [
    "pf.plotting.show_and_plot_top_positions(returns, positions_alloc=pf.pos.get_percent_alloc(positions))"
   ]
  },
  {
   "cell_type": "markdown",
   "id": "9d617b29",
   "metadata": {},
   "source": [
    "### 繪製基準 (benchmark) 與投組累計報酬率\n",
    "\n",
    "使用 `plot_rolling_returns()` 繪製，本案例的基準為大盤報酬率。"
   ]
  },
  {
   "cell_type": "code",
   "execution_count": 14,
   "id": "c0be116f",
   "metadata": {},
   "outputs": [
    {
     "data": {
      "text/plain": [
       "<AxesSubplot:ylabel='Cumulative returns'>"
      ]
     },
     "execution_count": 14,
     "metadata": {},
     "output_type": "execute_result"
    },
    {
     "data": {
      "image/png": "[encoded data removed]",
      "text/plain": [
       "<Figure size 432x288 with 1 Axes>"
      ]
     },
     "metadata": {
      "needs_background": "light"
     },
     "output_type": "display_data"
    }
   ],
   "source": [
    "pf.plotting.plot_rolling_returns(returns, factor_returns=benchmark_rets)"
   ]
  },
  {
   "cell_type": "markdown",
   "id": "8faca845",
   "metadata": {},
   "source": [
    "### 繪製六個月的滾動波動度\n",
    "\n",
    "使用 `plot_rolling_volatility()` 繪製。"
   ]
  },
  {
   "cell_type": "code",
   "execution_count": 15,
   "id": "aad84800",
   "metadata": {},
   "outputs": [
    {
     "data": {
      "text/plain": [
       "<AxesSubplot:title={'center':'Rolling volatility (6-month)'}, ylabel='Volatility'>"
      ]
     },
     "execution_count": 15,
     "metadata": {},
     "output_type": "execute_result"
    },
    {
     "data": {
      "image/png": "[encoded data removed]",
      "text/plain": [
       "<Figure size 432x288 with 1 Axes>"
      ]
     },
     "metadata": {
      "needs_background": "light"
     },
     "output_type": "display_data"
    }
   ],
   "source": [
    "pf.plotting.plot_rolling_volatility(returns, factor_returns=benchmark_rets)"
   ]
  },
  {
   "cell_type": "markdown",
   "id": "c8128227",
   "metadata": {},
   "source": [
    "### 繪製六個月的滾動夏普值\n",
    "\n",
    "使用 `plot_rolling_sharpe()` 繪製。"
   ]
  },
  {
   "cell_type": "code",
   "execution_count": 16,
   "id": "565125f6",
   "metadata": {},
   "outputs": [
    {
     "data": {
      "text/plain": [
       "<AxesSubplot:title={'center':'Rolling Sharpe ratio (6-month)'}, ylabel='Sharpe ratio'>"
      ]
     },
     "execution_count": 16,
     "metadata": {},
     "output_type": "execute_result"
    },
    {
     "data": {
      "image/png": "[encoded data removed]",
      "text/plain": [
       "<Figure size 432x288 with 1 Axes>"
      ]
     },
     "metadata": {
      "needs_background": "light"
     },
     "output_type": "display_data"
    }
   ],
   "source": [
    "pf.plotting.plot_rolling_sharpe(returns)"
   ]
  }
 ],
 "metadata": {
  "kernelspec": {
   "display_name": "Python [conda env:zipline-tej] *",
   "language": "python",
   "name": "conda-env-zipline-tej-py"
  },
  "language_info": {
   "codemirror_mode": {
    "name": "ipython",
    "version": 3
   },
   "file_extension": ".py",
   "mimetype": "text/x-python",
   "name": "python",
   "nbconvert_exporter": "python",
   "pygments_lexer": "ipython3",
   "version": "3.8.13"
  }
 },
 "nbformat": 4,
 "nbformat_minor": 5
}
